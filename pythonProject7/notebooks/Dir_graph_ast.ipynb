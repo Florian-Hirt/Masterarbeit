{
 "cells": [
  {
   "cell_type": "code",
   "execution_count": 29,
   "id": "3daf43d8-8dfa-491d-88e4-50d8282b16d4",
   "metadata": {
    "ExecuteTime": {
     "end_time": "2024-11-18T10:57:33.447991Z",
     "start_time": "2024-11-18T10:57:33.414653Z"
    },
    "pycharm": {
     "is_executing": true
    }
   },
   "outputs": [
    {
     "name": "stdout",
     "output_type": "stream",
     "text": [
      "/nfs/homedirs/hifl/miniconda3/bin/python\n"
     ]
    }
   ],
   "source": [
    "# Install required packages\n",
    "\n",
    "import os\n",
    "import sys\n",
    "print(sys.executable)\n",
    "\n",
    "sys.path.append(os.path.abspath(\"..\"))  # Zurück in das Hauptverzeichnis\n",
    "\n",
    "# Imports\n",
    "import ast\n",
    "import random\n",
    "from collections import deque\n",
    "import astunparse\n",
    "import networkx as nx\n",
    "from digraph_transformer import dataflow_parser\n",
    "import matplotlib.pyplot as plt\n",
    "from python_graphs.program_graph_dataclasses import EdgeType\n",
    "from python_graphs import program_graph_dataclasses as pb  # For pb.Edge\n",
    "\n",
    "\n",
    "\n"
   ]
  },
  {
   "cell_type": "code",
   "execution_count": 30,
   "id": "e03553d7-4a20-4c4a-99a5-c3d370bbf8ca",
   "metadata": {
    "ExecuteTime": {
     "end_time": "2024-11-18T10:57:33.448409Z",
     "start_time": "2024-11-18T10:57:33.419600Z"
    }
   },
   "outputs": [],
   "source": [
    "# Code-Snippets of three f1 scores\n",
    "code1 = \"\"\"\n",
    "def test_function():\n",
    "    i = 0\n",
    "    while i < 5:\n",
    "        print(f\"Iteration {i}\")\n",
    "        i += 1\n",
    "\"\"\"\n",
    "\n",
    "code2 = \"\"\"\n",
    "def f1_score(pred, label):\n",
    "    correct = pred == label\n",
    "    tp = (correct & label).sum()\n",
    "    fn = (~correct & ~pred).sum()\n",
    "    fp = (~correct & pred).sum()\n",
    "    precision = tp / (tp + fp)\n",
    "    recall = tp / (tp + fn)\n",
    "    return (2 * (precision * recall) / (precision + recall))\n",
    "\"\"\"\n",
    "\n",
    "code3 = \"\"\"\n",
    "def f1_score(pred, label):\n",
    "    correct = pred == label\n",
    "    tp = (correct & label).sum()\n",
    "    fn = (~correct & ~pred).sum()\n",
    "    recall = tp / (tp + fn)\n",
    "    fp = (~correct & pred).sum()\n",
    "    precision = tp / (tp + fp)\n",
    "    return (2 * (precision * recall) / (precision + recall))\n",
    "\"\"\""
   ]
  },
  {
   "cell_type": "code",
   "execution_count": 31,
   "id": "659e084f",
   "metadata": {
    "ExecuteTime": {
     "end_time": "2024-11-18T10:57:33.448473Z",
     "start_time": "2024-11-18T10:57:33.423469Z"
    },
    "collapsed": false,
    "jupyter": {
     "outputs_hidden": false
    }
   },
   "outputs": [],
   "source": [
    "# Code Snippet from the Appendix\n",
    "simple_code = \"\"\"\n",
    "def transform_add(a, b: float = 3.14):\n",
    "    a = a**2\n",
    "    c = math.sqrt(b)\n",
    "    return c + a\n",
    "\"\"\""
   ]
  },
  {
   "cell_type": "code",
   "execution_count": 32,
   "id": "859d2461-2a28-4709-ad54-579d3b2209d8",
   "metadata": {
    "ExecuteTime": {
     "end_time": "2024-11-18T10:57:33.448860Z",
     "start_time": "2024-11-18T10:57:33.428905Z"
    }
   },
   "outputs": [],
   "source": [
    "# Parse the ASTs\n",
    "tree1 = ast.parse(code1)\n",
    "tree2 = ast.parse(code2)\n",
    "tree3 = ast.parse(code3)\n",
    "simple_tree = ast.parse(simple_code)\n",
    "\n",
    "# Extract the Function Bodies\n",
    "function_body1 = tree1.body[0].body\n",
    "function_body2 = tree2.body[0].body\n",
    "function_body3 = tree3.body[0].body\n",
    "simple_body = simple_tree.body[0].body"
   ]
  },
  {
   "cell_type": "code",
   "execution_count": 33,
   "id": "5e5f3d65-f933-43fe-a6cf-df2656cb20ae",
   "metadata": {
    "ExecuteTime": {
     "end_time": "2024-11-18T10:57:33.449174Z",
     "start_time": "2024-11-18T10:57:33.434440Z"
    }
   },
   "outputs": [],
   "source": [
    "# Function for detailed output of the AST nodes\n",
    "def print_ast_details(body, label):\n",
    "    print(f\"{label}:\\n\")\n",
    "    for stmt in body:\n",
    "        print(ast.dump(stmt, annotate_fields=True, include_attributes=True))\n",
    "    print(\"\\n\" + \"=\" * 50 + \"\\n\")"
   ]
  },
  {
   "cell_type": "code",
   "execution_count": 34,
   "id": "fe80f2f0",
   "metadata": {
    "ExecuteTime": {
     "end_time": "2024-11-18T10:57:33.449254Z",
     "start_time": "2024-11-18T10:57:33.437884Z"
    },
    "collapsed": false,
    "jupyter": {
     "outputs_hidden": false
    }
   },
   "outputs": [],
   "source": [
    "def non_deterministic_topological_sort(graph):\n",
    "    # Check if DAG\n",
    "    pos = nx.spring_layout(graph, seed=225)  # Seed for reproducible layout\n",
    "    nx.draw(graph, pos)\n",
    "    plt.show()\n",
    "\n",
    "    if not nx.is_directed_acyclic_graph(graph):\n",
    "        raise ValueError(\"Graph contains a cycle!\")\n",
    "\n",
    "    graph_copy = graph.copy()\n",
    "    topo_order = []\n",
    "\n",
    "    # Find nodes with no incoming edges (sources)\n",
    "    sources = deque([node for node in graph_copy.nodes if graph_copy.in_degree(node) == 0])\n",
    "\n",
    "    while sources:\n",
    "        # Select a source node randomly and add it to topo_order\n",
    "        random_index = random.randint(0, len(sources) - 1)\n",
    "        node = sources[random_index]\n",
    "        sources.remove(node)\n",
    "        topo_order.append(node)\n",
    "\n",
    "        # Remove the node from the graph and update sources\n",
    "        successors = list(graph_copy.successors(node))\n",
    "        random.shuffle(successors)\n",
    "\n",
    "        for successor in successors:\n",
    "            graph_copy.remove_edge(node, successor)\n",
    "            if graph_copy.in_degree(successor) == 0:\n",
    "                sources.append(successor)\n",
    "\n",
    "        # Remove the processed node from the graph\n",
    "        graph_copy.remove_node(node)\n",
    "\n",
    "    return topo_order\n"
   ]
  },
  {
   "cell_type": "code",
   "execution_count": 35,
   "id": "9543582a",
   "metadata": {},
   "outputs": [],
   "source": [
    "class ASTReconstructor(ast.NodeTransformer):\n",
    "    def __init__(self, graph, topo_sort):\n",
    "        self.graph = graph\n",
    "        self.topo_sort = topo_sort  \n",
    "        self.ast_map = {node_id: graph.nodes[node_id].ast_node for node_id in topo_sort}\n",
    "        self.reconstructed_body = []\n",
    "\n",
    "    def visit_FunctionDef(self, node):\n",
    "        self.generic_visit(node)\n",
    "        node.body = self.reorder_body(node.body)\n",
    "        return node\n",
    "    \n",
    "    def visit_If(self, node):\n",
    "        self.generic_visit(node)\n",
    "        node.body = self.reorder_body(node.body)\n",
    "        node.orelse = self.reorder_body(node.orelse)\n",
    "        return node\n",
    "    \n",
    "    def visit_For(self, node):\n",
    "        self.generic_visit(node)\n",
    "        node.body = self.reorder_body(node.body)\n",
    "        node.orelse = self.reorder_body(node.orelse)\n",
    "        return node\n",
    "\n",
    "    def visit_While(self, node):\n",
    "        self.generic_visit(node)\n",
    "        node.body = self.reorder_body(node.body)\n",
    "        node.orelse = self.reorder_body(node.orelse)\n",
    "        return node\n",
    "    \n",
    "    def visit_Try(self, node):\n",
    "        self.generic_visit(node)\n",
    "        node.body = self.reorder_body(node.body)\n",
    "        for handler in node.handlers:\n",
    "            handler.body = self.reorder_body(handler.body)\n",
    "        node.orelse = self.reorder_body(node.orelse)\n",
    "        node.finalbody = self.reorder_body(node.finalbody)\n",
    "        return node\n",
    "    \n",
    "    def visit_BinOp(self, node):\n",
    "            self.generic_visit(node)\n",
    "            if node.op.__class__.__name__ in (\"Add\", \"Mult\", \"BitOr\", \"BitXor\"):\n",
    "                if random.choice([True, False]):\n",
    "                    node.left, node.right = node.right, node.left\n",
    "            return node\n",
    "\n",
    "    def reorder_body(self, body):\n",
    "        # Filter the nodes of the current body and sort them by topological order\n",
    "        body_ids = [id(stmt) for stmt in body if isinstance(stmt, ast.stmt)]\n",
    "        reordered_body = [self.ast_map[node_id] for node_id in self.topo_sort if id(self.ast_map[node_id]) in body_ids]\n",
    "        return reordered_body\n",
    "\n",
    "def graph_to_ast(graph, topo_sort):\n",
    "    # Use the first node of the AST according to the topo_sort as the starting point\n",
    "    first_node_id = topo_sort[0]\n",
    "    root_node = graph.nodes[first_node_id].ast_node\n",
    "\n",
    "    # Use the ASTReconstructor\n",
    "    reconstructor = ASTReconstructor(graph, topo_sort)\n",
    "    reconstructor.visit(root_node)\n",
    "\n",
    "    return root_node"
   ]
  },
  {
   "cell_type": "code",
   "execution_count": 36,
   "id": "27e78e63",
   "metadata": {},
   "outputs": [],
   "source": [
    "class ASTOrder(ast.NodeVisitor):\n",
    "    def __init__(self, graph):\n",
    "        self.index = 0\n",
    "        self.node_to_order = {}\n",
    "        self.graph = graph\n",
    "\n",
    "    def visit(self, node):\n",
    "        self.node_to_order[id(node)] = self.index\n",
    "        self.index += 1\n",
    "        self.generic_visit(node)\n",
    "\n",
    "    def reorder_graph(self):\n",
    "        edges_to_remove = []\n",
    "        for edge in self.graph.edges:\n",
    "            if (self.node_to_order[id(self.graph.nodes[edge.id1].ast_node)] > self.node_to_order[id(self.graph.nodes[edge.id2].ast_node)]) or (edge.id1 == edge.id2):\n",
    "                edges_to_remove.append(edge)\n",
    "        \n",
    "        for edge in edges_to_remove:\n",
    "            self.graph.edges.remove(edge)\n"
   ]
  },
  {
   "cell_type": "markdown",
   "id": "fe1aafdd",
   "metadata": {},
   "source": [
    "Dependencies, die von außerhalb eines If-Blocks in einen If-Block Zeigen, müssen auch auf höheren Ebenen sichtbar gemacht werden!"
   ]
  },
  {
   "cell_type": "code",
   "execution_count": 37,
   "id": "5f45bdc5",
   "metadata": {},
   "outputs": [],
   "source": [
    "\n",
    "def add_control_block_dependencies(graph):\n",
    "    for node_id in graph.nodes:\n",
    "        ast_node = graph.get_node(node_id).ast_node\n",
    "        if ast_node.__class__.__name__ in [\"If\", \"For\", \"Try\", \"While\"]:\n",
    "            # Collect all nodes inside the body, orelse, and handlers\n",
    "            body_node_ids = [graph.get_node_by_ast_node(stmt).id for stmt in ast_node.body]\n",
    "            orelse_node_ids = [graph.get_node_by_ast_node(stmt).id for stmt in ast_node.orelse]\n",
    "            handler_node_ids = []\n",
    "            if ast_node.__class__.__name__ == \"Try\":\n",
    "                for handler in ast_node.handlers:\n",
    "                    handler_node_ids.extend([graph.get_node_by_ast_node(stmt).id for stmt in handler.body])\n",
    "\n",
    "            # Collect the node for the condition (test) or loop variable and iterable (target and iter)\n",
    "            if ast_node.__class__.__name__ == \"If\":\n",
    "                control_node_ids = [graph.get_node_by_ast_node(ast_node.test).id]\n",
    "            elif ast_node.__class__.__name__ == \"For\":\n",
    "                control_node_ids = [graph.get_node_by_ast_node(ast_node.target).id, graph.get_node_by_ast_node(ast_node.iter).id]\n",
    "            elif ast_node.__class__.__name__ == \"While\":\n",
    "                control_node_ids = [graph.get_node_by_ast_node(ast_node.test).id]\n",
    "            else:  # Try\n",
    "                control_node_ids = []\n",
    "\n",
    "            # Combine body, orelse, handlers, and control nodes as the block\n",
    "            block_nodes = set(body_node_ids + orelse_node_ids + handler_node_ids + control_node_ids)\n",
    "\n",
    "            print(f\"{ast_node.__class__.__name__} block nodes: {block_nodes.__str__()}\")\n",
    "            node_names = [graph.get_node(node_id).ast_node.__class__.__name__ for node_id in block_nodes]\n",
    "            print(f\"Node names in {ast_node.__class__.__name__} block: {node_names}\")\n",
    "\n",
    "            # Check dependencies for each inner node\n",
    "            for inner_node_id in block_nodes:\n",
    "                for edge in graph.edges:\n",
    "                    if edge.id2 == inner_node_id:  # Check if there is an incoming dependency\n",
    "                        if edge.id1 not in block_nodes and edge.id1 != node_id:  # From outside the block and not the block node itself\n",
    "                            # Create a pb.Edge object\n",
    "                            new_edge = pb.Edge(id1=edge.id1, id2=node_id, type=edge.type)\n",
    "                            if not any(e.id1 == new_edge.id1 and e.id2 == new_edge.id2 and e.type == new_edge.type for e in graph.edges):\n",
    "                                graph.add_edge(new_edge)\n",
    "                                print(f\"Added edge: {new_edge}\")\n",
    "                                node1_name = graph.get_node(new_edge.id1).ast_node.__class__.__name__\n",
    "                                node2_name = graph.get_node(new_edge.id2).ast_node.__class__.__name__\n",
    "                                print(f\"Edge connects node {new_edge.id1} ({node1_name}) to node {new_edge.id2} ({node2_name})\")"
   ]
  },
  {
   "cell_type": "code",
   "execution_count": 38,
   "id": "9c46fce9-d019-4ec8-a7d4-ecac852a5737",
   "metadata": {
    "ExecuteTime": {
     "end_time": "2024-11-18T10:57:33.487544Z",
     "start_time": "2024-11-18T10:57:33.476238Z"
    }
   },
   "outputs": [
    {
     "name": "stdout",
     "output_type": "stream",
     "text": [
      "Code:\n",
      "\n",
      "Assign(targets=[Name(id='i', ctx=Store(), lineno=3, col_offset=4, end_lineno=3, end_col_offset=5)], value=Constant(value=0, lineno=3, col_offset=8, end_lineno=3, end_col_offset=9), lineno=3, col_offset=4, end_lineno=3, end_col_offset=9)\n",
      "While(test=Compare(left=Name(id='i', ctx=Load(), lineno=4, col_offset=10, end_lineno=4, end_col_offset=11), ops=[Lt()], comparators=[Constant(value=5, lineno=4, col_offset=14, end_lineno=4, end_col_offset=15)], lineno=4, col_offset=10, end_lineno=4, end_col_offset=15), body=[Expr(value=Call(func=Name(id='print', ctx=Load(), lineno=5, col_offset=8, end_lineno=5, end_col_offset=13), args=[JoinedStr(values=[Constant(value='Iteration ', lineno=5, col_offset=16, end_lineno=5, end_col_offset=26), FormattedValue(value=Name(id='i', ctx=Load(), lineno=5, col_offset=27, end_lineno=5, end_col_offset=28), conversion=-1, lineno=5, col_offset=26, end_lineno=5, end_col_offset=29)], lineno=5, col_offset=14, end_lineno=5, end_col_offset=30)], keywords=[], lineno=5, col_offset=8, end_lineno=5, end_col_offset=31), lineno=5, col_offset=8, end_lineno=5, end_col_offset=31), AugAssign(target=Name(id='i', ctx=Store(), lineno=6, col_offset=8, end_lineno=6, end_col_offset=9), op=Add(), value=Constant(value=1, lineno=6, col_offset=13, end_lineno=6, end_col_offset=14), lineno=6, col_offset=8, end_lineno=6, end_col_offset=14)], orelse=[], lineno=4, col_offset=4, end_lineno=6, end_col_offset=14)\n",
      "\n",
      "==================================================\n",
      "\n"
     ]
    }
   ],
   "source": [
    "print_ast_details(function_body1, \"Code\")"
   ]
  },
  {
   "cell_type": "code",
   "execution_count": 39,
   "id": "c5dba37f-abe8-461d-b3dd-cdf96fbcc4f3",
   "metadata": {
    "ExecuteTime": {
     "end_time": "2024-11-18T10:57:33.487583Z",
     "start_time": "2024-11-18T10:57:33.476344Z"
    }
   },
   "outputs": [],
   "source": [
    "graph, tree1 = dataflow_parser.get_program_graph(code1)\n",
    "\n",
    "ast_map = {id(graph.nodes[node_id].ast_node): node_id for node_id in graph.nodes}\n",
    "\n",
    "# Filter edge type 9 as this represents the sequential connections of the original code\n",
    "graph.edges = [e for e in graph.edges if e.type.value != 9]"
   ]
  },
  {
   "cell_type": "code",
   "execution_count": 40,
   "id": "1f8dee0e",
   "metadata": {},
   "outputs": [
    {
     "name": "stdout",
     "output_type": "stream",
     "text": [
      "While block nodes: {12988552057551045051, 13412240566020392566, 12177417536860127696}\n",
      "Node names in While block: ['Compare', 'AugAssign', 'Expr']\n",
      "Added edge: Edge(id1=13715789896285516046, id2=12640122660490431828, type=<EdgeType.CFG_NEXT: 1>, field_name=None, has_back_edge=False)\n",
      "Edge connects node 13715789896285516046 (Assign) to node 12640122660490431828 (While)\n"
     ]
    }
   ],
   "source": [
    "add_control_block_dependencies(graph)"
   ]
  },
  {
   "cell_type": "code",
   "execution_count": 41,
   "id": "5ea7fbfe",
   "metadata": {},
   "outputs": [],
   "source": [
    "ast_order = ASTOrder(graph)\n",
    "ast_order.visit(tree1)\n",
    "\n",
    "# Reorder the graph to drop cycles\n",
    "ast_order.reorder_graph()"
   ]
  },
  {
   "cell_type": "code",
   "execution_count": 42,
   "id": "8b01d9d2",
   "metadata": {
    "ExecuteTime": {
     "end_time": "2024-11-18T10:57:33.494776Z",
     "start_time": "2024-11-18T10:57:33.482253Z"
    },
    "collapsed": false,
    "jupyter": {
     "outputs_hidden": false
    }
   },
   "outputs": [
    {
     "name": "stdout",
     "output_type": "stream",
     "text": [
      "Nodes: \n",
      " {13281012687677963469: 13281012687677963469 FunctionDef, 13715789896285516046: 13715789896285516046 Assign, 12988552057551045051: 12988552057551045051 Compare, 12177417536860127696: 12177417536860127696 Expr, 13412240566020392566: 13412240566020392566 AugAssign, 9542903355809596586: 9542903355809596586 Module, 13660306085479509328: 13660306085479509328 arguments, 12640122660490431828: 12640122660490431828 While, 10871060174999524924: 10871060174999524924 Name, 12761134314086605196: 12761134314086605196 Constant, 11731024900954660234: 11731024900954660234 Store, 11430036691556299820: 11430036691556299820 Name, 10050840785559951405: 10050840785559951405 Lt, 13077479959355837909: 13077479959355837909 Constant, 10502151304515741689: 10502151304515741689 Call, 12206370103446700584: 12206370103446700584 Name, 10425783264622447044: 10425783264622447044 Add, 12607357302502871205: 12607357302502871205 Constant, 9407068485239987029: 9407068485239987029 Load, 12913247121199011121: 12913247121199011121 Name, 9558218514947067875: 9558218514947067875 JoinedStr, 10896750809019401025: 10896750809019401025 Store, 11960471790348765652: 11960471790348765652 Load, 9792980065148066210: 9792980065148066210 Constant, 9989932784146552049: 9989932784146552049 FormattedValue, 10194126424654351474: 10194126424654351474 Name, 13169270830427063954: 13169270830427063954 Load} \n",
      "\n",
      "Edges: \n",
      " [Edge(id1=9542903355809596586, id2=13281012687677963469, type=<EdgeType.FIELD: 7>, field_name='body:0', has_back_edge=False), Edge(id1=13281012687677963469, id2=13660306085479509328, type=<EdgeType.FIELD: 7>, field_name='args', has_back_edge=False), Edge(id1=13281012687677963469, id2=13715789896285516046, type=<EdgeType.FIELD: 7>, field_name='body:0', has_back_edge=False), Edge(id1=13281012687677963469, id2=12640122660490431828, type=<EdgeType.FIELD: 7>, field_name='body:1', has_back_edge=False), Edge(id1=13715789896285516046, id2=10871060174999524924, type=<EdgeType.FIELD: 7>, field_name='targets:0', has_back_edge=False), Edge(id1=13715789896285516046, id2=12761134314086605196, type=<EdgeType.FIELD: 7>, field_name='value', has_back_edge=False), Edge(id1=12640122660490431828, id2=12988552057551045051, type=<EdgeType.FIELD: 7>, field_name='test', has_back_edge=False), Edge(id1=12640122660490431828, id2=12177417536860127696, type=<EdgeType.FIELD: 7>, field_name='body:0', has_back_edge=False), Edge(id1=12640122660490431828, id2=13412240566020392566, type=<EdgeType.FIELD: 7>, field_name='body:1', has_back_edge=False), Edge(id1=10871060174999524924, id2=11731024900954660234, type=<EdgeType.FIELD: 7>, field_name='ctx', has_back_edge=False), Edge(id1=12988552057551045051, id2=11430036691556299820, type=<EdgeType.FIELD: 7>, field_name='left', has_back_edge=False), Edge(id1=12988552057551045051, id2=10050840785559951405, type=<EdgeType.FIELD: 7>, field_name='ops:0', has_back_edge=False), Edge(id1=12988552057551045051, id2=13077479959355837909, type=<EdgeType.FIELD: 7>, field_name='comparators:0', has_back_edge=False), Edge(id1=12177417536860127696, id2=10502151304515741689, type=<EdgeType.FIELD: 7>, field_name='value', has_back_edge=False), Edge(id1=13412240566020392566, id2=12206370103446700584, type=<EdgeType.FIELD: 7>, field_name='target', has_back_edge=False), Edge(id1=13412240566020392566, id2=10425783264622447044, type=<EdgeType.FIELD: 7>, field_name='op', has_back_edge=False), Edge(id1=13412240566020392566, id2=12607357302502871205, type=<EdgeType.FIELD: 7>, field_name='value', has_back_edge=False), Edge(id1=11430036691556299820, id2=9407068485239987029, type=<EdgeType.FIELD: 7>, field_name='ctx', has_back_edge=False), Edge(id1=10502151304515741689, id2=12913247121199011121, type=<EdgeType.FIELD: 7>, field_name='func', has_back_edge=False), Edge(id1=10502151304515741689, id2=9558218514947067875, type=<EdgeType.FIELD: 7>, field_name='args:0', has_back_edge=False), Edge(id1=12206370103446700584, id2=10896750809019401025, type=<EdgeType.FIELD: 7>, field_name='ctx', has_back_edge=False), Edge(id1=12913247121199011121, id2=11960471790348765652, type=<EdgeType.FIELD: 7>, field_name='ctx', has_back_edge=False), Edge(id1=9558218514947067875, id2=9792980065148066210, type=<EdgeType.FIELD: 7>, field_name='values:0', has_back_edge=False), Edge(id1=9558218514947067875, id2=9989932784146552049, type=<EdgeType.FIELD: 7>, field_name='values:1', has_back_edge=False), Edge(id1=9989932784146552049, id2=10194126424654351474, type=<EdgeType.FIELD: 7>, field_name='value', has_back_edge=False), Edge(id1=10194126424654351474, id2=13169270830427063954, type=<EdgeType.FIELD: 7>, field_name='ctx', has_back_edge=False), Edge(id1=10871060174999524924, id2=11430036691556299820, type=<EdgeType.LAST_WRITE: 3>, field_name=None, has_back_edge=False), Edge(id1=10871060174999524924, id2=10194126424654351474, type=<EdgeType.LAST_WRITE: 3>, field_name=None, has_back_edge=False), Edge(id1=10871060174999524924, id2=12206370103446700584, type=<EdgeType.LAST_WRITE: 3>, field_name=None, has_back_edge=False), Edge(id1=10871060174999524924, id2=12206370103446700584, type=<EdgeType.LAST_WRITE: 3>, field_name=None, has_back_edge=False), Edge(id1=13715789896285516046, id2=12988552057551045051, type=<EdgeType.CFG_NEXT: 1>, field_name=None, has_back_edge=False), Edge(id1=12988552057551045051, id2=12177417536860127696, type=<EdgeType.CFG_NEXT: 1>, field_name=None, has_back_edge=False), Edge(id1=12988552057551045051, id2=13412240566020392566, type=<EdgeType.CFG_NEXT: 1>, field_name=None, has_back_edge=False), Edge(id1=13715789896285516046, id2=12640122660490431828, type=<EdgeType.CFG_NEXT: 1>, field_name=None, has_back_edge=False)] \n",
      "\n",
      "<generator object <genexpr> at 0x7fcd177817d0>\n"
     ]
    }
   ],
   "source": [
    "print(\"Nodes: \\n\",graph.nodes,\"\\n\")\n",
    "print(\"Edges: \\n\", graph.edges, \"\\n\")\n",
    "print(edge for edge in graph.edges if egde.type.value == 9)"
   ]
  },
  {
   "cell_type": "code",
   "execution_count": 43,
   "id": "34ff2067",
   "metadata": {
    "ExecuteTime": {
     "end_time": "2024-11-18T10:57:33.495062Z",
     "start_time": "2024-11-18T10:57:33.488389Z"
    },
    "collapsed": false,
    "jupyter": {
     "outputs_hidden": false
    }
   },
   "outputs": [],
   "source": [
    "# Create a new directed graph\n",
    "nx_graph = nx.DiGraph()\n",
    "\n",
    "# Add nodes\n",
    "nx_graph.add_nodes_from(graph.nodes.keys())\n",
    "\n",
    "# Add edges with only id1 and id2\n",
    "edges = [(edge.id1, edge.id2) for edge in graph.edges]\n",
    "nx_graph.add_edges_from(edges)\n"
   ]
  },
  {
   "cell_type": "code",
   "execution_count": 44,
   "id": "e46b04df",
   "metadata": {},
   "outputs": [
    {
     "data": {
      "text/plain": [
       "<gast.gast.While at 0x7fcd15848a90>"
      ]
     },
     "execution_count": 44,
     "metadata": {},
     "output_type": "execute_result"
    }
   ],
   "source": [
    "tree1.body[0].body[1]"
   ]
  },
  {
   "cell_type": "code",
   "execution_count": 45,
   "id": "3281c082",
   "metadata": {
    "ExecuteTime": {
     "end_time": "2024-11-18T10:57:33.499251Z",
     "start_time": "2024-11-18T10:57:33.493120Z"
    },
    "collapsed": false,
    "jupyter": {
     "outputs_hidden": false
    }
   },
   "outputs": [
    {
     "data": {
      "image/png": "[encoded data removed]",
      "text/plain": [
       "<Figure size 640x480 with 1 Axes>"
      ]
     },
     "metadata": {},
     "output_type": "display_data"
    }
   ],
   "source": [
    "if nx.is_directed_acyclic_graph(nx_graph):\n",
    "    topo_sort = non_deterministic_topological_sort(nx_graph)\n",
    "else:\n",
    "    print(\"The graph contains a cycle and cannot be topologically sorted.\")\n",
    "    try:\n",
    "        cycle = nx.find_cycle(nx_graph, orientation='original')\n",
    "        print(\"Cycle found in the graph:\", cycle)\n",
    "        if cycle:\n",
    "            pos = nx.spring_layout(nx_graph, seed=225)\n",
    "            plt.figure(figsize=(12, 8))\n",
    "            nx.draw(nx_graph, pos, with_labels=True, node_color='lightblue', edge_color='gray')\n",
    "            cycle_edges = [(u, v) for u, v, _ in cycle]\n",
    "            nx.draw_networkx_edges(nx_graph, pos, edgelist=cycle_edges, edge_color='r', width=2)\n",
    "            node1_name = graph.get_node(cycle[0][0]).ast_node.__class__.__name__\n",
    "            node2_name = graph.get_node(cycle[0][1]).ast_node.__class__.__name__ if len(cycle) > 1 else \"N/A\"\n",
    "            # Print detailed information about the nodes in the cycle\n",
    "            for u, v in cycle_edges:\n",
    "                node_u = graph.get_node(u)\n",
    "                node_v = graph.get_node(v)\n",
    "                print(f\"Edge from {node_u.ast_node.__class__.__name__} to {node_v.ast_node.__class__.__name__}\")\n",
    "                print(f\"Node {u} details: {ast.dump(node_u.ast_node, annotate_fields=True, include_attributes=True)}\")\n",
    "                print(f\"Node {v} details: {ast.dump(node_v.ast_node, annotate_fields=True, include_attributes=True)}\")\n",
    "\n",
    "            # Handle self-cycle\n",
    "            if len(cycle) == 1:\n",
    "                node_u = graph.get_node(cycle[0][0])\n",
    "                print(f\"Self-cycle detected at node {node_u.ast_node.__class__.__name__}\")\n",
    "                print(f\"Node details: {ast.dump(node_u.ast_node, annotate_fields=True, include_attributes=True)}\")\n",
    "\n",
    "            plt.show()\n",
    "        else:\n",
    "            print(\"No cycle found in the graph.\")\n",
    "    except nx.NetworkXNoCycle:\n",
    "        print(\"No cycle found in the graph.\")\n",
    "        "
   ]
  },
  {
   "cell_type": "code",
   "execution_count": 46,
   "id": "b4167cf2",
   "metadata": {},
   "outputs": [
    {
     "name": "stdout",
     "output_type": "stream",
     "text": [
      "<gast.gast.Assign object at 0x7fcd15dd7490>\n",
      "<gast.gast.While object at 0x7fcd15848a90>\n",
      "Edge from 'correct = (pred == label)' to 'if (correct < 3): print(correct) else: print('ABC')' exists: True\n",
      "Incoming edges to the 'if (correct < 3): print(correct) else: print('ABC')' node: [Edge(id1=13281012687677963469, id2=12640122660490431828, type=<EdgeType.FIELD: 7>, field_name='body:1', has_back_edge=False), Edge(id1=13715789896285516046, id2=12640122660490431828, type=<EdgeType.CFG_NEXT: 1>, field_name=None, has_back_edge=False)]\n",
      "Nodes with edges pointing to the 'if (correct < 3): print(correct) else: print('ABC')' node: ['FunctionDef', 'Assign']\n"
     ]
    }
   ],
   "source": [
    "# Get the node IDs for the Assign and If nodes\n",
    "assign_node_id = ast_map.get(id(tree1.body[0].body[0]))\n",
    "print(tree1.body[0].body[0])\n",
    "if_node_id = ast_map.get(id(tree1.body[0].body[1]))\n",
    "print(tree1.body[0].body[1])\n",
    "\n",
    "# Check if the node IDs were found\n",
    "if assign_node_id is None or if_node_id is None:\n",
    "\tprint(\"One of the node IDs was not found in the ast_map.\")\n",
    "else:\n",
    "\t# Check if there is an edge from the Assign node to the If node\n",
    "\tedge_exists = any(edge.id1 == assign_node_id and edge.id2 == if_node_id for edge in graph.edges)\n",
    "\n",
    "\tprint(f\"Edge from 'correct = (pred == label)' to 'if (correct < 3): print(correct) else: print('ABC')' exists: {edge_exists}\")\n",
    "\t# Check for all edges that go into the node that represents the If statement\n",
    "\tincoming_edges = [edge for edge in graph.edges if edge.id2 == if_node_id]\n",
    "\n",
    "\tprint(f\"Incoming edges to the 'if (correct < 3): print(correct) else: print('ABC')' node: {incoming_edges}\")\n",
    "\t# Get the names of the nodes that have an edge pointing to the If node\n",
    "\tincoming_node_names = [graph.nodes[edge.id1].ast_node.__class__.__name__ for edge in incoming_edges]\n",
    "\n",
    "\tprint(f\"Nodes with edges pointing to the 'if (correct < 3): print(correct) else: print('ABC')' node: {incoming_node_names}\")"
   ]
  },
  {
   "cell_type": "code",
   "execution_count": 47,
   "id": "0017c4ae",
   "metadata": {
    "ExecuteTime": {
     "end_time": "2024-11-18T10:57:33.499474Z",
     "start_time": "2024-11-18T10:57:33.496234Z"
    },
    "collapsed": false,
    "jupyter": {
     "outputs_hidden": false
    }
   },
   "outputs": [
    {
     "name": "stdout",
     "output_type": "stream",
     "text": [
      "\n",
      "\n",
      "def test_function():\n",
      "    i = 0\n",
      "    while (i < 5):\n",
      "        print(f'Iteration {i}')\n",
      "        i += 1\n",
      "\n"
     ]
    }
   ],
   "source": [
    "print(astunparse.unparse(tree1))"
   ]
  },
  {
   "cell_type": "code",
   "execution_count": 48,
   "id": "e19c6a36",
   "metadata": {
    "ExecuteTime": {
     "end_time": "2024-11-15T17:22:35.879194Z",
     "start_time": "2024-11-15T17:22:35.846709Z"
    },
    "collapsed": false,
    "jupyter": {
     "outputs_hidden": false
    }
   },
   "outputs": [
    {
     "name": "stdout",
     "output_type": "stream",
     "text": [
      "\n",
      "\n",
      "def test_function():\n",
      "    i = 0\n",
      "    while (i < 5):\n",
      "        i += 1\n",
      "        print(f'Iteration {i}')\n",
      "\n"
     ]
    }
   ],
   "source": [
    "reconstructed_ast = graph_to_ast(graph, topo_sort)\n",
    "generated_code = astunparse.unparse(reconstructed_ast)\n",
    "print(generated_code)"
   ]
  }
 ],
 "metadata": {
  "kernelspec": {
   "display_name": "base",
   "language": "python",
   "name": "python3"
  },
  "language_info": {
   "codemirror_mode": {
    "name": "ipython",
    "version": 3
   },
   "file_extension": ".py",
   "mimetype": "text/x-python",
   "name": "python",
   "nbconvert_exporter": "python",
   "pygments_lexer": "ipython3",
   "version": "3.12.7"
  }
 },
 "nbformat": 4,
 "nbformat_minor": 5
}
