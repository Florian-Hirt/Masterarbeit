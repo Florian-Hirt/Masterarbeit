{
 "cells": [
  {
   "cell_type": "code",
   "execution_count": 1,
   "id": "3daf43d8-8dfa-491d-88e4-50d8282b16d4",
   "metadata": {
    "ExecuteTime": {
     "end_time": "2024-11-18T10:57:33.447991Z",
     "start_time": "2024-11-18T10:57:33.414653Z"
    },
    "pycharm": {
     "is_executing": true
    }
   },
   "outputs": [],
   "source": [
    "# Imports\n",
    "import ast\n",
    "import astunparse\n",
    "from digraph_transformer import dataflow_parser\n",
    "import networkx as nx\n",
    "import random\n",
    "from collections import deque\n",
    "import copy"
   ]
  },
  {
   "cell_type": "code",
   "execution_count": 2,
   "id": "e03553d7-4a20-4c4a-99a5-c3d370bbf8ca",
   "metadata": {
    "ExecuteTime": {
     "end_time": "2024-11-18T10:57:33.448409Z",
     "start_time": "2024-11-18T10:57:33.419600Z"
    }
   },
   "outputs": [],
   "source": [
    "# Code-Snippets of three f1 scores\n",
    "code1 = \"\"\"\n",
    "def f1_score(pred, label):\n",
    "    correct = pred == label\n",
    "    tp = (correct & label).sum()\n",
    "    fn = (~correct & pred).sum()\n",
    "    fp = (~correct & ~pred).sum()\n",
    "    precision = tp / (tp + fp)\n",
    "    recall = tp / (tp + fn)\n",
    "    return (2 * (recall * precision) / (recall + precision))\n",
    "\"\"\"\n",
    "\n",
    "code2 = \"\"\"\n",
    "def f1_score(pred, label):\n",
    "    correct = pred == label\n",
    "    tp = (correct & label).sum()\n",
    "    fn = (~correct & ~pred).sum()\n",
    "    fp = (~correct & pred).sum()\n",
    "    precision = tp / (tp + fp)\n",
    "    recall = tp / (tp + fn)\n",
    "    return (2 * (precision * recall) / (precision + recall))\n",
    "\"\"\"\n",
    "\n",
    "code3 = \"\"\"\n",
    "def f1_score(pred, label):\n",
    "    correct = pred == label\n",
    "    tp = (correct & label).sum()\n",
    "    fn = (~correct & ~pred).sum()\n",
    "    recall = tp / (tp + fn)\n",
    "    fp = (~correct & pred).sum()\n",
    "    precision = tp / (tp + fp)\n",
    "    return (2 * (precision * recall) / (precision + recall))\n",
    "\"\"\""
   ]
  },
  {
   "cell_type": "code",
   "execution_count": 3,
   "id": "659e084f",
   "metadata": {
    "ExecuteTime": {
     "end_time": "2024-11-18T10:57:33.448473Z",
     "start_time": "2024-11-18T10:57:33.423469Z"
    },
    "collapsed": false,
    "jupyter": {
     "outputs_hidden": false
    }
   },
   "outputs": [],
   "source": [
    "# Code Snippet from the Appendix\n",
    "simple_code = \"\"\"\n",
    "def transform_add(a, b: float = 3.14):\n",
    "    a = a**2\n",
    "    c = math.sqrt(b)\n",
    "    return c + a\n",
    "\"\"\""
   ]
  },
  {
   "cell_type": "code",
   "execution_count": 4,
   "id": "859d2461-2a28-4709-ad54-579d3b2209d8",
   "metadata": {
    "ExecuteTime": {
     "end_time": "2024-11-18T10:57:33.448860Z",
     "start_time": "2024-11-18T10:57:33.428905Z"
    }
   },
   "outputs": [],
   "source": [
    "# Parse the ASTs\n",
    "tree1 = ast.parse(code1)\n",
    "tree2 = ast.parse(code2)\n",
    "tree3 = ast.parse(code3)\n",
    "simple_tree = ast.parse(simple_code)\n",
    "\n",
    "# Extract the Function Bodies\n",
    "function_body1 = tree1.body[0].body\n",
    "function_body2 = tree2.body[0].body\n",
    "function_body3 = tree3.body[0].body\n",
    "simple_body = simple_tree.body[0].body"
   ]
  },
  {
   "cell_type": "code",
   "execution_count": 5,
   "id": "5e5f3d65-f933-43fe-a6cf-df2656cb20ae",
   "metadata": {
    "ExecuteTime": {
     "end_time": "2024-11-18T10:57:33.449174Z",
     "start_time": "2024-11-18T10:57:33.434440Z"
    }
   },
   "outputs": [],
   "source": [
    "# Function for detailed output of the AST nodes\n",
    "def print_ast_details(body, label):\n",
    "    print(f\"{label}:\\n\")\n",
    "    for stmt in body:\n",
    "        print(ast.dump(stmt, annotate_fields=True, include_attributes=True))\n",
    "    print(\"\\n\" + \"=\" * 50 + \"\\n\")"
   ]
  },
  {
   "cell_type": "code",
   "execution_count": 6,
   "id": "fe80f2f0",
   "metadata": {
    "ExecuteTime": {
     "end_time": "2024-11-18T10:57:33.449254Z",
     "start_time": "2024-11-18T10:57:33.437884Z"
    },
    "collapsed": false,
    "jupyter": {
     "outputs_hidden": false
    }
   },
   "outputs": [],
   "source": [
    "def non_deterministic_topological_sort(graph):\n",
    "    # Check if DAG\n",
    "    if not nx.is_directed_acyclic_graph(graph):\n",
    "        raise ValueError(\"Graph contains a cycle!\")\n",
    "\n",
    "    graph_copy = graph.copy()\n",
    "    topo_order = []\n",
    "\n",
    "    # Find nodes with no incoming edges (sources)\n",
    "    sources = deque([node for node in graph_copy.nodes if graph_copy.in_degree(node) == 0])\n",
    "\n",
    "    while sources:\n",
    "        # Select a source node randomly and add it to topo_order\n",
    "        random_index = random.randint(0, len(sources) - 1)\n",
    "        node = sources[random_index]\n",
    "        sources.remove(node)\n",
    "        topo_order.append(node)\n",
    "\n",
    "        # Remove the node from the graph and update sources\n",
    "        successors = list(graph_copy.successors(node))\n",
    "        random.shuffle(successors)\n",
    "\n",
    "        for successor in successors:\n",
    "            graph_copy.remove_edge(node, successor)\n",
    "            if graph_copy.in_degree(successor) == 0:\n",
    "                sources.append(successor)\n",
    "\n",
    "        # Remove the processed node from the graph\n",
    "        graph_copy.remove_node(node)\n",
    "\n",
    "    return topo_order\n"
   ]
  },
  {
   "cell_type": "code",
   "execution_count": 7,
   "id": "36a1efe4",
   "metadata": {
    "ExecuteTime": {
     "end_time": "2024-11-18T10:57:33.483111Z",
     "start_time": "2024-11-18T10:57:33.448930Z"
    },
    "collapsed": false,
    "jupyter": {
     "outputs_hidden": false
    }
   },
   "outputs": [],
   "source": [
    "class ASTReconstructor(ast.NodeTransformer):\n",
    "    def __init__(self, graph, topo_sort):\n",
    "        self.graph = graph\n",
    "        self.topo_sort = topo_sort\n",
    "        self.ast_map = {node_id: graph.nodes[node_id].ast_node for node_id in topo_sort}\n",
    "        self.reconstructed_body = []\n",
    "\n",
    "    # def visit_Module(self, node):\n",
    "        # Recursively visit all nodes in the module\n",
    "        # self.generic_visit(node)\n",
    "        # Reorder statements based on topo_sort\n",
    "        # reordered_body = [self.ast_map[node_id] for node_id in self.topo_sort if node_id in self.ast_map]\n",
    "        # node.body = reordered_body\n",
    "        # return node\n",
    "\n",
    "    def visit_FunctionDef(self, node):\n",
    "        # Recursive sorting for the body of a function\n",
    "        node.body = self.reorder_body(node.body)\n",
    "        return node\n",
    "\n",
    "    def reorder_body(self, body):\n",
    "        # Filter the nodes of the current body and sort them by topological order\n",
    "        print(\"Jetzt\")\n",
    "        body_ids = [id(stmt) for stmt in body if isinstance(stmt, ast.stmt)]\n",
    "        reordered_body = [self.ast_map[node_id] for node_id in self.topo_sort if id(self.ast_map[node_id]) in body_ids]\n",
    "        return reordered_body\n",
    "\n",
    "def graph_to_ast(graph, topo_sort):\n",
    "    # Use the first node of the AST according to the topo_sort as the starting point\n",
    "    first_node_id = topo_sort[0]\n",
    "    root_node = graph.nodes[first_node_id].ast_node\n",
    "\n",
    "    # Use the ASTReconstructor\n",
    "    reconstructor = ASTReconstructor(graph, topo_sort)\n",
    "    reconstructor.visit(root_node)\n",
    "\n",
    "    return root_node"
   ]
  },
  {
   "cell_type": "code",
   "execution_count": 8,
   "id": "22fb10e4",
   "metadata": {
    "ExecuteTime": {
     "end_time": "2024-11-18T10:57:33.487323Z",
     "start_time": "2024-11-18T10:57:33.475939Z"
    },
    "collapsed": false,
    "jupyter": {
     "outputs_hidden": false
    }
   },
   "outputs": [],
   "source": [
    "# def graph_to_ast(graph, topo_sort):\n",
    "#     # Initialize a module node\n",
    "#     module_node = ast.Module(body=[])\n",
    "# \n",
    "#     # Add ast nodes according to the topological sort\n",
    "#     for node_id in topo_sort:\n",
    "#         if node_id in graph.nodes:\n",
    "#             ast_node = graph.nodes[node_id].ast_node  # Graph node -> AST node\n",
    "#             if isinstance(ast_node, ast.stmt):  # (Otherwise: AttributeError: 'Unparser' object has no attribute '_Store')\n",
    "#                 module_node.body.append(ast_node)\n",
    "# \n",
    "#     return module_node"
   ]
  },
  {
   "cell_type": "code",
   "execution_count": 9,
   "id": "9c46fce9-d019-4ec8-a7d4-ecac852a5737",
   "metadata": {
    "ExecuteTime": {
     "end_time": "2024-11-18T10:57:33.487544Z",
     "start_time": "2024-11-18T10:57:33.476238Z"
    }
   },
   "outputs": [
    {
     "name": "stdout",
     "output_type": "stream",
     "text": [
      "Code:\n",
      "\n",
      "Assign(targets=[Name(id='correct', ctx=Store(), lineno=3, col_offset=4, end_lineno=3, end_col_offset=11)], value=Compare(left=Name(id='pred', ctx=Load(), lineno=3, col_offset=14, end_lineno=3, end_col_offset=18), ops=[Eq()], comparators=[Name(id='label', ctx=Load(), lineno=3, col_offset=22, end_lineno=3, end_col_offset=27)], lineno=3, col_offset=14, end_lineno=3, end_col_offset=27), lineno=3, col_offset=4, end_lineno=3, end_col_offset=27)\n",
      "Assign(targets=[Name(id='tp', ctx=Store(), lineno=4, col_offset=4, end_lineno=4, end_col_offset=6)], value=Call(func=Attribute(value=BinOp(left=Name(id='correct', ctx=Load(), lineno=4, col_offset=10, end_lineno=4, end_col_offset=17), op=BitAnd(), right=Name(id='label', ctx=Load(), lineno=4, col_offset=20, end_lineno=4, end_col_offset=25), lineno=4, col_offset=10, end_lineno=4, end_col_offset=25), attr='sum', ctx=Load(), lineno=4, col_offset=9, end_lineno=4, end_col_offset=30), args=[], keywords=[], lineno=4, col_offset=9, end_lineno=4, end_col_offset=32), lineno=4, col_offset=4, end_lineno=4, end_col_offset=32)\n",
      "Assign(targets=[Name(id='fn', ctx=Store(), lineno=5, col_offset=4, end_lineno=5, end_col_offset=6)], value=Call(func=Attribute(value=BinOp(left=UnaryOp(op=Invert(), operand=Name(id='correct', ctx=Load(), lineno=5, col_offset=11, end_lineno=5, end_col_offset=18), lineno=5, col_offset=10, end_lineno=5, end_col_offset=18), op=BitAnd(), right=Name(id='pred', ctx=Load(), lineno=5, col_offset=21, end_lineno=5, end_col_offset=25), lineno=5, col_offset=10, end_lineno=5, end_col_offset=25), attr='sum', ctx=Load(), lineno=5, col_offset=9, end_lineno=5, end_col_offset=30), args=[], keywords=[], lineno=5, col_offset=9, end_lineno=5, end_col_offset=32), lineno=5, col_offset=4, end_lineno=5, end_col_offset=32)\n",
      "Assign(targets=[Name(id='fp', ctx=Store(), lineno=6, col_offset=4, end_lineno=6, end_col_offset=6)], value=Call(func=Attribute(value=BinOp(left=UnaryOp(op=Invert(), operand=Name(id='correct', ctx=Load(), lineno=6, col_offset=11, end_lineno=6, end_col_offset=18), lineno=6, col_offset=10, end_lineno=6, end_col_offset=18), op=BitAnd(), right=UnaryOp(op=Invert(), operand=Name(id='pred', ctx=Load(), lineno=6, col_offset=22, end_lineno=6, end_col_offset=26), lineno=6, col_offset=21, end_lineno=6, end_col_offset=26), lineno=6, col_offset=10, end_lineno=6, end_col_offset=26), attr='sum', ctx=Load(), lineno=6, col_offset=9, end_lineno=6, end_col_offset=31), args=[], keywords=[], lineno=6, col_offset=9, end_lineno=6, end_col_offset=33), lineno=6, col_offset=4, end_lineno=6, end_col_offset=33)\n",
      "Assign(targets=[Name(id='precision', ctx=Store(), lineno=7, col_offset=4, end_lineno=7, end_col_offset=13)], value=BinOp(left=Name(id='tp', ctx=Load(), lineno=7, col_offset=16, end_lineno=7, end_col_offset=18), op=Div(), right=BinOp(left=Name(id='tp', ctx=Load(), lineno=7, col_offset=22, end_lineno=7, end_col_offset=24), op=Add(), right=Name(id='fp', ctx=Load(), lineno=7, col_offset=27, end_lineno=7, end_col_offset=29), lineno=7, col_offset=22, end_lineno=7, end_col_offset=29), lineno=7, col_offset=16, end_lineno=7, end_col_offset=30), lineno=7, col_offset=4, end_lineno=7, end_col_offset=30)\n",
      "Assign(targets=[Name(id='recall', ctx=Store(), lineno=8, col_offset=4, end_lineno=8, end_col_offset=10)], value=BinOp(left=Name(id='tp', ctx=Load(), lineno=8, col_offset=13, end_lineno=8, end_col_offset=15), op=Div(), right=BinOp(left=Name(id='tp', ctx=Load(), lineno=8, col_offset=19, end_lineno=8, end_col_offset=21), op=Add(), right=Name(id='fn', ctx=Load(), lineno=8, col_offset=24, end_lineno=8, end_col_offset=26), lineno=8, col_offset=19, end_lineno=8, end_col_offset=26), lineno=8, col_offset=13, end_lineno=8, end_col_offset=27), lineno=8, col_offset=4, end_lineno=8, end_col_offset=27)\n",
      "Return(value=BinOp(left=BinOp(left=Constant(value=2, lineno=9, col_offset=12, end_lineno=9, end_col_offset=13), op=Mult(), right=BinOp(left=Name(id='recall', ctx=Load(), lineno=9, col_offset=17, end_lineno=9, end_col_offset=23), op=Mult(), right=Name(id='precision', ctx=Load(), lineno=9, col_offset=26, end_lineno=9, end_col_offset=35), lineno=9, col_offset=17, end_lineno=9, end_col_offset=35), lineno=9, col_offset=12, end_lineno=9, end_col_offset=36), op=Div(), right=BinOp(left=Name(id='recall', ctx=Load(), lineno=9, col_offset=40, end_lineno=9, end_col_offset=46), op=Add(), right=Name(id='precision', ctx=Load(), lineno=9, col_offset=49, end_lineno=9, end_col_offset=58), lineno=9, col_offset=40, end_lineno=9, end_col_offset=58), lineno=9, col_offset=12, end_lineno=9, end_col_offset=59), lineno=9, col_offset=4, end_lineno=9, end_col_offset=60)\n",
      "\n",
      "==================================================\n",
      "\n"
     ]
    }
   ],
   "source": [
    "print_ast_details(function_body1, \"Code\")"
   ]
  },
  {
   "cell_type": "code",
   "execution_count": 10,
   "id": "c5dba37f-abe8-461d-b3dd-cdf96fbcc4f3",
   "metadata": {
    "ExecuteTime": {
     "end_time": "2024-11-18T10:57:33.487583Z",
     "start_time": "2024-11-18T10:57:33.476344Z"
    }
   },
   "outputs": [
    {
     "data": {
      "text/plain": [
       "[Edge(id1=10115576774197098609, id2=10273322632835557308, type=<EdgeType.FIELD: 7>, field_name='body:6', has_back_edge=False),\n",
       " Edge(id1=12219335689282354403, id2=10273322632835557308, type=<EdgeType.CFG_NEXT: 1>, field_name=None, has_back_edge=False),\n",
       " Edge(id1=11499256730149983707, id2=10273322632835557308, type=<EdgeType.CFG_NEXT: 1>, field_name=None, has_back_edge=False)]"
      ]
     },
     "execution_count": 10,
     "metadata": {},
     "output_type": "execute_result"
    }
   ],
   "source": [
    "graph, tree1 = dataflow_parser.get_program_graph(code1)\n",
    "\n",
    "ast_map = {id(graph.nodes[node_id].ast_node): node_id for node_id in graph.nodes}\n",
    "\n",
    "# Filter edge type 9 as this represents the sequential connections of the original code\n",
    "graph.edges = [e for e in graph.edges if e.type.value != 9]\n",
    "[e for e in graph.edges if e.id2 == ast_map[id(tree1.body[0].body[-1])]]"
   ]
  },
  {
   "cell_type": "code",
   "execution_count": 22,
   "id": "8b01d9d2",
   "metadata": {
    "ExecuteTime": {
     "end_time": "2024-11-18T10:57:33.494776Z",
     "start_time": "2024-11-18T10:57:33.482253Z"
    },
    "collapsed": false,
    "jupyter": {
     "outputs_hidden": false
    }
   },
   "outputs": [
    {
     "name": "stdout",
     "output_type": "stream",
     "text": [
      "Nodes: \n",
      " {10115576774197098609: 10115576774197098609 FunctionDef, 13085076117903524052: 13085076117903524052 arguments, 10108120096904689184: 10108120096904689184 Assign, 9784628869143751362: 9784628869143751362 Assign, 10271966001060323261: 10271966001060323261 Assign, 10277769968383705972: 10277769968383705972 Assign, 12219335689282354403: 12219335689282354403 Assign, 11499256730149983707: 11499256730149983707 Assign, 10273322632835557308: 10273322632835557308 Return, 12933619462411058698: 12933619462411058698 Module, 12013961865352675761: 12013961865352675761 Name, 12938203132187835714: 12938203132187835714 Name, 11828809352297403838: 11828809352297403838 Name, 12477842132025638638: 12477842132025638638 Compare, 9450221006482531345: 9450221006482531345 Name, 11305425876566352567: 11305425876566352567 Call, 13756902992212224989: 13756902992212224989 Name, 13198862734546069521: 13198862734546069521 Call, 9637310546696623837: 9637310546696623837 Name, 11353097420832635231: 11353097420832635231 Call, 10601138213115885483: 10601138213115885483 Name, 10476502722806249130: 10476502722806249130 BinOp, 11818708095430338813: 11818708095430338813 Name, 9632913977741458223: 9632913977741458223 BinOp, 10905035299059782649: 10905035299059782649 BinOp, 10189913649607811377: 10189913649607811377 Param, 9335124924322544891: 9335124924322544891 Param, 12289169023823214132: 12289169023823214132 Store, 11834987903668354634: 11834987903668354634 Name, 13337432944597449562: 13337432944597449562 Eq, 12247489469248280089: 12247489469248280089 Name, 11383971085703820007: 11383971085703820007 Store, 9586334334407176570: 9586334334407176570 Attribute, 12011471778198050643: 12011471778198050643 Store, 10258405893869937043: 10258405893869937043 Attribute, 10603931334436728396: 10603931334436728396 Store, 13809963631253623386: 13809963631253623386 Attribute, 11638099790636307674: 11638099790636307674 Store, 10636776389223212018: 10636776389223212018 Name, 12447299052988667862: 12447299052988667862 Div, 10059194468149513087: 10059194468149513087 BinOp, 10960277761868357451: 10960277761868357451 Store, 12001270622321903047: 12001270622321903047 Name, 11830996975123509778: 11830996975123509778 Div, 13031998830428260681: 13031998830428260681 BinOp, 11138997202209421919: 11138997202209421919 BinOp, 13393865491459590336: 13393865491459590336 Div, 10048919696414774274: 10048919696414774274 BinOp, 13119990167510532552: 13119990167510532552 Load, 9652415038413550370: 9652415038413550370 Load, 13682317932574737972: 13682317932574737972 BinOp, 10729443232823672423: 10729443232823672423 Load, 11911219484955232444: 11911219484955232444 BinOp, 11160285847039806181: 11160285847039806181 Load, 12522620152854836677: 12522620152854836677 BinOp, 11204552141352362187: 11204552141352362187 Load, 10178742463501057072: 10178742463501057072 Load, 11934622770823686053: 11934622770823686053 Name, 12993261670474817218: 12993261670474817218 Add, 12595926977234124562: 12595926977234124562 Name, 12016872078880207752: 12016872078880207752 Load, 11383642361451973653: 11383642361451973653 Name, 13716748085380646245: 13716748085380646245 Add, 10207143232567798927: 10207143232567798927 Name, 12893741802120465480: 12893741802120465480 Constant, 13166609314910837504: 13166609314910837504 Mult, 10161998492293231214: 10161998492293231214 BinOp, 11803367366686789387: 11803367366686789387 Name, 9297412013762639903: 9297412013762639903 Add, 12195761519058963811: 12195761519058963811 Name, 10883020044959755927: 10883020044959755927 Name, 11741971967960062363: 11741971967960062363 BitAnd, 11675072725073389476: 11675072725073389476 Name, 11193000050787036325: 11193000050787036325 UnaryOp, 11848031998020439417: 11848031998020439417 BitAnd, 10476480860457212429: 10476480860457212429 Name, 13638438994130829415: 13638438994130829415 UnaryOp, 11005595773478209146: 11005595773478209146 BitAnd, 11300114293770971518: 11300114293770971518 UnaryOp, 11852813433079113080: 11852813433079113080 Load, 11477094376029736036: 11477094376029736036 Load, 13034326993077113011: 13034326993077113011 Load, 10561044266749013253: 10561044266749013253 Load, 13053933559602346932: 13053933559602346932 Name, 11023741446385353281: 11023741446385353281 Mult, 12343356649608818440: 12343356649608818440 Name, 10633911868981291972: 10633911868981291972 Load, 13346298510889196951: 13346298510889196951 Load, 12946760876555803807: 12946760876555803807 Load, 12506211403375532406: 12506211403375532406 Load, 11380555844486295658: 11380555844486295658 Invert, 11933579012110344145: 11933579012110344145 Name, 11240667307166626735: 11240667307166626735 Load, 12576342478042001426: 12576342478042001426 Invert, 12332244423584784049: 12332244423584784049 Name, 12673300770181053269: 12673300770181053269 Invert, 9605224431952920388: 9605224431952920388 Name, 12654087349857784389: 12654087349857784389 Load, 13631089757189594495: 13631089757189594495 Load, 9354960265472252050: 9354960265472252050 Load, 11186289577071822278: 11186289577071822278 Load, 9944592548461069754: 9944592548461069754 Load} \n",
      "\n",
      "Edges: \n",
      " [Edge(id1=12933619462411058698, id2=10115576774197098609, type=<EdgeType.FIELD: 7>, field_name='body:0', has_back_edge=False), Edge(id1=10115576774197098609, id2=13085076117903524052, type=<EdgeType.FIELD: 7>, field_name='args', has_back_edge=False), Edge(id1=10115576774197098609, id2=10108120096904689184, type=<EdgeType.FIELD: 7>, field_name='body:0', has_back_edge=False), Edge(id1=10115576774197098609, id2=9784628869143751362, type=<EdgeType.FIELD: 7>, field_name='body:1', has_back_edge=False), Edge(id1=10115576774197098609, id2=10271966001060323261, type=<EdgeType.FIELD: 7>, field_name='body:2', has_back_edge=False), Edge(id1=10115576774197098609, id2=10277769968383705972, type=<EdgeType.FIELD: 7>, field_name='body:3', has_back_edge=False), Edge(id1=10115576774197098609, id2=12219335689282354403, type=<EdgeType.FIELD: 7>, field_name='body:4', has_back_edge=False), Edge(id1=10115576774197098609, id2=11499256730149983707, type=<EdgeType.FIELD: 7>, field_name='body:5', has_back_edge=False), Edge(id1=10115576774197098609, id2=10273322632835557308, type=<EdgeType.FIELD: 7>, field_name='body:6', has_back_edge=False), Edge(id1=13085076117903524052, id2=12013961865352675761, type=<EdgeType.FIELD: 7>, field_name='args:0', has_back_edge=False), Edge(id1=13085076117903524052, id2=12938203132187835714, type=<EdgeType.FIELD: 7>, field_name='args:1', has_back_edge=False), Edge(id1=10108120096904689184, id2=11828809352297403838, type=<EdgeType.FIELD: 7>, field_name='targets:0', has_back_edge=False), Edge(id1=10108120096904689184, id2=12477842132025638638, type=<EdgeType.FIELD: 7>, field_name='value', has_back_edge=False), Edge(id1=9784628869143751362, id2=9450221006482531345, type=<EdgeType.FIELD: 7>, field_name='targets:0', has_back_edge=False), Edge(id1=9784628869143751362, id2=11305425876566352567, type=<EdgeType.FIELD: 7>, field_name='value', has_back_edge=False), Edge(id1=10271966001060323261, id2=13756902992212224989, type=<EdgeType.FIELD: 7>, field_name='targets:0', has_back_edge=False), Edge(id1=10271966001060323261, id2=13198862734546069521, type=<EdgeType.FIELD: 7>, field_name='value', has_back_edge=False), Edge(id1=10277769968383705972, id2=9637310546696623837, type=<EdgeType.FIELD: 7>, field_name='targets:0', has_back_edge=False), Edge(id1=10277769968383705972, id2=11353097420832635231, type=<EdgeType.FIELD: 7>, field_name='value', has_back_edge=False), Edge(id1=12219335689282354403, id2=10601138213115885483, type=<EdgeType.FIELD: 7>, field_name='targets:0', has_back_edge=False), Edge(id1=12219335689282354403, id2=10476502722806249130, type=<EdgeType.FIELD: 7>, field_name='value', has_back_edge=False), Edge(id1=11499256730149983707, id2=11818708095430338813, type=<EdgeType.FIELD: 7>, field_name='targets:0', has_back_edge=False), Edge(id1=11499256730149983707, id2=9632913977741458223, type=<EdgeType.FIELD: 7>, field_name='value', has_back_edge=False), Edge(id1=10273322632835557308, id2=10905035299059782649, type=<EdgeType.FIELD: 7>, field_name='value', has_back_edge=False), Edge(id1=12013961865352675761, id2=10189913649607811377, type=<EdgeType.FIELD: 7>, field_name='ctx', has_back_edge=False), Edge(id1=12938203132187835714, id2=9335124924322544891, type=<EdgeType.FIELD: 7>, field_name='ctx', has_back_edge=False), Edge(id1=11828809352297403838, id2=12289169023823214132, type=<EdgeType.FIELD: 7>, field_name='ctx', has_back_edge=False), Edge(id1=12477842132025638638, id2=11834987903668354634, type=<EdgeType.FIELD: 7>, field_name='left', has_back_edge=False), Edge(id1=12477842132025638638, id2=13337432944597449562, type=<EdgeType.FIELD: 7>, field_name='ops:0', has_back_edge=False), Edge(id1=12477842132025638638, id2=12247489469248280089, type=<EdgeType.FIELD: 7>, field_name='comparators:0', has_back_edge=False), Edge(id1=9450221006482531345, id2=11383971085703820007, type=<EdgeType.FIELD: 7>, field_name='ctx', has_back_edge=False), Edge(id1=11305425876566352567, id2=9586334334407176570, type=<EdgeType.FIELD: 7>, field_name='func', has_back_edge=False), Edge(id1=13756902992212224989, id2=12011471778198050643, type=<EdgeType.FIELD: 7>, field_name='ctx', has_back_edge=False), Edge(id1=13198862734546069521, id2=10258405893869937043, type=<EdgeType.FIELD: 7>, field_name='func', has_back_edge=False), Edge(id1=9637310546696623837, id2=10603931334436728396, type=<EdgeType.FIELD: 7>, field_name='ctx', has_back_edge=False), Edge(id1=11353097420832635231, id2=13809963631253623386, type=<EdgeType.FIELD: 7>, field_name='func', has_back_edge=False), Edge(id1=10601138213115885483, id2=11638099790636307674, type=<EdgeType.FIELD: 7>, field_name='ctx', has_back_edge=False), Edge(id1=10476502722806249130, id2=10636776389223212018, type=<EdgeType.FIELD: 7>, field_name='left', has_back_edge=False), Edge(id1=10476502722806249130, id2=12447299052988667862, type=<EdgeType.FIELD: 7>, field_name='op', has_back_edge=False), Edge(id1=10476502722806249130, id2=10059194468149513087, type=<EdgeType.FIELD: 7>, field_name='right', has_back_edge=False), Edge(id1=11818708095430338813, id2=10960277761868357451, type=<EdgeType.FIELD: 7>, field_name='ctx', has_back_edge=False), Edge(id1=9632913977741458223, id2=12001270622321903047, type=<EdgeType.FIELD: 7>, field_name='left', has_back_edge=False), Edge(id1=9632913977741458223, id2=11830996975123509778, type=<EdgeType.FIELD: 7>, field_name='op', has_back_edge=False), Edge(id1=9632913977741458223, id2=13031998830428260681, type=<EdgeType.FIELD: 7>, field_name='right', has_back_edge=False), Edge(id1=10905035299059782649, id2=11138997202209421919, type=<EdgeType.FIELD: 7>, field_name='left', has_back_edge=False), Edge(id1=10905035299059782649, id2=13393865491459590336, type=<EdgeType.FIELD: 7>, field_name='op', has_back_edge=False), Edge(id1=10905035299059782649, id2=10048919696414774274, type=<EdgeType.FIELD: 7>, field_name='right', has_back_edge=False), Edge(id1=11834987903668354634, id2=13119990167510532552, type=<EdgeType.FIELD: 7>, field_name='ctx', has_back_edge=False), Edge(id1=12247489469248280089, id2=9652415038413550370, type=<EdgeType.FIELD: 7>, field_name='ctx', has_back_edge=False), Edge(id1=9586334334407176570, id2=13682317932574737972, type=<EdgeType.FIELD: 7>, field_name='value', has_back_edge=False), Edge(id1=9586334334407176570, id2=10729443232823672423, type=<EdgeType.FIELD: 7>, field_name='ctx', has_back_edge=False), Edge(id1=10258405893869937043, id2=11911219484955232444, type=<EdgeType.FIELD: 7>, field_name='value', has_back_edge=False), Edge(id1=10258405893869937043, id2=11160285847039806181, type=<EdgeType.FIELD: 7>, field_name='ctx', has_back_edge=False), Edge(id1=13809963631253623386, id2=12522620152854836677, type=<EdgeType.FIELD: 7>, field_name='value', has_back_edge=False), Edge(id1=13809963631253623386, id2=11204552141352362187, type=<EdgeType.FIELD: 7>, field_name='ctx', has_back_edge=False), Edge(id1=10636776389223212018, id2=10178742463501057072, type=<EdgeType.FIELD: 7>, field_name='ctx', has_back_edge=False), Edge(id1=10059194468149513087, id2=11934622770823686053, type=<EdgeType.FIELD: 7>, field_name='left', has_back_edge=False), Edge(id1=10059194468149513087, id2=12993261670474817218, type=<EdgeType.FIELD: 7>, field_name='op', has_back_edge=False), Edge(id1=10059194468149513087, id2=12595926977234124562, type=<EdgeType.FIELD: 7>, field_name='right', has_back_edge=False), Edge(id1=12001270622321903047, id2=12016872078880207752, type=<EdgeType.FIELD: 7>, field_name='ctx', has_back_edge=False), Edge(id1=13031998830428260681, id2=11383642361451973653, type=<EdgeType.FIELD: 7>, field_name='left', has_back_edge=False), Edge(id1=13031998830428260681, id2=13716748085380646245, type=<EdgeType.FIELD: 7>, field_name='op', has_back_edge=False), Edge(id1=13031998830428260681, id2=10207143232567798927, type=<EdgeType.FIELD: 7>, field_name='right', has_back_edge=False), Edge(id1=11138997202209421919, id2=12893741802120465480, type=<EdgeType.FIELD: 7>, field_name='left', has_back_edge=False), Edge(id1=11138997202209421919, id2=13166609314910837504, type=<EdgeType.FIELD: 7>, field_name='op', has_back_edge=False), Edge(id1=11138997202209421919, id2=10161998492293231214, type=<EdgeType.FIELD: 7>, field_name='right', has_back_edge=False), Edge(id1=10048919696414774274, id2=11803367366686789387, type=<EdgeType.FIELD: 7>, field_name='left', has_back_edge=False), Edge(id1=10048919696414774274, id2=9297412013762639903, type=<EdgeType.FIELD: 7>, field_name='op', has_back_edge=False), Edge(id1=10048919696414774274, id2=12195761519058963811, type=<EdgeType.FIELD: 7>, field_name='right', has_back_edge=False), Edge(id1=13682317932574737972, id2=10883020044959755927, type=<EdgeType.FIELD: 7>, field_name='left', has_back_edge=False), Edge(id1=13682317932574737972, id2=11741971967960062363, type=<EdgeType.FIELD: 7>, field_name='op', has_back_edge=False), Edge(id1=13682317932574737972, id2=11675072725073389476, type=<EdgeType.FIELD: 7>, field_name='right', has_back_edge=False), Edge(id1=11911219484955232444, id2=11193000050787036325, type=<EdgeType.FIELD: 7>, field_name='left', has_back_edge=False), Edge(id1=11911219484955232444, id2=11848031998020439417, type=<EdgeType.FIELD: 7>, field_name='op', has_back_edge=False), Edge(id1=11911219484955232444, id2=10476480860457212429, type=<EdgeType.FIELD: 7>, field_name='right', has_back_edge=False), Edge(id1=12522620152854836677, id2=13638438994130829415, type=<EdgeType.FIELD: 7>, field_name='left', has_back_edge=False), Edge(id1=12522620152854836677, id2=11005595773478209146, type=<EdgeType.FIELD: 7>, field_name='op', has_back_edge=False), Edge(id1=12522620152854836677, id2=11300114293770971518, type=<EdgeType.FIELD: 7>, field_name='right', has_back_edge=False), Edge(id1=11934622770823686053, id2=11852813433079113080, type=<EdgeType.FIELD: 7>, field_name='ctx', has_back_edge=False), Edge(id1=12595926977234124562, id2=11477094376029736036, type=<EdgeType.FIELD: 7>, field_name='ctx', has_back_edge=False), Edge(id1=11383642361451973653, id2=13034326993077113011, type=<EdgeType.FIELD: 7>, field_name='ctx', has_back_edge=False), Edge(id1=10207143232567798927, id2=10561044266749013253, type=<EdgeType.FIELD: 7>, field_name='ctx', has_back_edge=False), Edge(id1=10161998492293231214, id2=13053933559602346932, type=<EdgeType.FIELD: 7>, field_name='left', has_back_edge=False), Edge(id1=10161998492293231214, id2=11023741446385353281, type=<EdgeType.FIELD: 7>, field_name='op', has_back_edge=False), Edge(id1=10161998492293231214, id2=12343356649608818440, type=<EdgeType.FIELD: 7>, field_name='right', has_back_edge=False), Edge(id1=11803367366686789387, id2=10633911868981291972, type=<EdgeType.FIELD: 7>, field_name='ctx', has_back_edge=False), Edge(id1=12195761519058963811, id2=13346298510889196951, type=<EdgeType.FIELD: 7>, field_name='ctx', has_back_edge=False), Edge(id1=10883020044959755927, id2=12946760876555803807, type=<EdgeType.FIELD: 7>, field_name='ctx', has_back_edge=False), Edge(id1=11675072725073389476, id2=12506211403375532406, type=<EdgeType.FIELD: 7>, field_name='ctx', has_back_edge=False), Edge(id1=11193000050787036325, id2=11380555844486295658, type=<EdgeType.FIELD: 7>, field_name='op', has_back_edge=False), Edge(id1=11193000050787036325, id2=11933579012110344145, type=<EdgeType.FIELD: 7>, field_name='operand', has_back_edge=False), Edge(id1=10476480860457212429, id2=11240667307166626735, type=<EdgeType.FIELD: 7>, field_name='ctx', has_back_edge=False), Edge(id1=13638438994130829415, id2=12576342478042001426, type=<EdgeType.FIELD: 7>, field_name='op', has_back_edge=False), Edge(id1=13638438994130829415, id2=12332244423584784049, type=<EdgeType.FIELD: 7>, field_name='operand', has_back_edge=False), Edge(id1=11300114293770971518, id2=12673300770181053269, type=<EdgeType.FIELD: 7>, field_name='op', has_back_edge=False), Edge(id1=11300114293770971518, id2=9605224431952920388, type=<EdgeType.FIELD: 7>, field_name='operand', has_back_edge=False), Edge(id1=13053933559602346932, id2=12654087349857784389, type=<EdgeType.FIELD: 7>, field_name='ctx', has_back_edge=False), Edge(id1=12343356649608818440, id2=13631089757189594495, type=<EdgeType.FIELD: 7>, field_name='ctx', has_back_edge=False), Edge(id1=11933579012110344145, id2=9354960265472252050, type=<EdgeType.FIELD: 7>, field_name='ctx', has_back_edge=False), Edge(id1=12332244423584784049, id2=11186289577071822278, type=<EdgeType.FIELD: 7>, field_name='ctx', has_back_edge=False), Edge(id1=9605224431952920388, id2=9944592548461069754, type=<EdgeType.FIELD: 7>, field_name='ctx', has_back_edge=False), Edge(id1=12013961865352675761, id2=11834987903668354634, type=<EdgeType.LAST_WRITE: 3>, field_name=None, has_back_edge=False), Edge(id1=12938203132187835714, id2=12247489469248280089, type=<EdgeType.LAST_WRITE: 3>, field_name=None, has_back_edge=False), Edge(id1=11828809352297403838, id2=10883020044959755927, type=<EdgeType.LAST_WRITE: 3>, field_name=None, has_back_edge=False), Edge(id1=12938203132187835714, id2=11675072725073389476, type=<EdgeType.LAST_WRITE: 3>, field_name=None, has_back_edge=False), Edge(id1=11828809352297403838, id2=11933579012110344145, type=<EdgeType.LAST_WRITE: 3>, field_name=None, has_back_edge=False), Edge(id1=12013961865352675761, id2=10476480860457212429, type=<EdgeType.LAST_WRITE: 3>, field_name=None, has_back_edge=False), Edge(id1=11828809352297403838, id2=12332244423584784049, type=<EdgeType.LAST_WRITE: 3>, field_name=None, has_back_edge=False), Edge(id1=12013961865352675761, id2=9605224431952920388, type=<EdgeType.LAST_WRITE: 3>, field_name=None, has_back_edge=False), Edge(id1=9450221006482531345, id2=10636776389223212018, type=<EdgeType.LAST_WRITE: 3>, field_name=None, has_back_edge=False), Edge(id1=9450221006482531345, id2=11934622770823686053, type=<EdgeType.LAST_WRITE: 3>, field_name=None, has_back_edge=False), Edge(id1=9637310546696623837, id2=12595926977234124562, type=<EdgeType.LAST_WRITE: 3>, field_name=None, has_back_edge=False), Edge(id1=9450221006482531345, id2=12001270622321903047, type=<EdgeType.LAST_WRITE: 3>, field_name=None, has_back_edge=False), Edge(id1=9450221006482531345, id2=11383642361451973653, type=<EdgeType.LAST_WRITE: 3>, field_name=None, has_back_edge=False), Edge(id1=13756902992212224989, id2=10207143232567798927, type=<EdgeType.LAST_WRITE: 3>, field_name=None, has_back_edge=False), Edge(id1=11818708095430338813, id2=13053933559602346932, type=<EdgeType.LAST_WRITE: 3>, field_name=None, has_back_edge=False), Edge(id1=10601138213115885483, id2=12343356649608818440, type=<EdgeType.LAST_WRITE: 3>, field_name=None, has_back_edge=False), Edge(id1=11818708095430338813, id2=11803367366686789387, type=<EdgeType.LAST_WRITE: 3>, field_name=None, has_back_edge=False), Edge(id1=10601138213115885483, id2=12195761519058963811, type=<EdgeType.LAST_WRITE: 3>, field_name=None, has_back_edge=False), Edge(id1=11834987903668354634, id2=11828809352297403838, type=<EdgeType.COMPUTED_FROM: 4>, field_name=None, has_back_edge=False), Edge(id1=12247489469248280089, id2=11828809352297403838, type=<EdgeType.COMPUTED_FROM: 4>, field_name=None, has_back_edge=False), Edge(id1=10883020044959755927, id2=9450221006482531345, type=<EdgeType.COMPUTED_FROM: 4>, field_name=None, has_back_edge=False), Edge(id1=11675072725073389476, id2=9450221006482531345, type=<EdgeType.COMPUTED_FROM: 4>, field_name=None, has_back_edge=False), Edge(id1=10476480860457212429, id2=13756902992212224989, type=<EdgeType.COMPUTED_FROM: 4>, field_name=None, has_back_edge=False), Edge(id1=11933579012110344145, id2=13756902992212224989, type=<EdgeType.COMPUTED_FROM: 4>, field_name=None, has_back_edge=False), Edge(id1=12332244423584784049, id2=9637310546696623837, type=<EdgeType.COMPUTED_FROM: 4>, field_name=None, has_back_edge=False), Edge(id1=9605224431952920388, id2=9637310546696623837, type=<EdgeType.COMPUTED_FROM: 4>, field_name=None, has_back_edge=False), Edge(id1=10636776389223212018, id2=10601138213115885483, type=<EdgeType.COMPUTED_FROM: 4>, field_name=None, has_back_edge=False), Edge(id1=11934622770823686053, id2=10601138213115885483, type=<EdgeType.COMPUTED_FROM: 4>, field_name=None, has_back_edge=False), Edge(id1=12595926977234124562, id2=10601138213115885483, type=<EdgeType.COMPUTED_FROM: 4>, field_name=None, has_back_edge=False), Edge(id1=12001270622321903047, id2=11818708095430338813, type=<EdgeType.COMPUTED_FROM: 4>, field_name=None, has_back_edge=False), Edge(id1=11383642361451973653, id2=11818708095430338813, type=<EdgeType.COMPUTED_FROM: 4>, field_name=None, has_back_edge=False), Edge(id1=10207143232567798927, id2=11818708095430338813, type=<EdgeType.COMPUTED_FROM: 4>, field_name=None, has_back_edge=False), Edge(id1=13085076117903524052, id2=10108120096904689184, type=<EdgeType.CFG_NEXT: 1>, field_name=None, has_back_edge=False), Edge(id1=10108120096904689184, id2=10277769968383705972, type=<EdgeType.CFG_NEXT: 1>, field_name=None, has_back_edge=False), Edge(id1=10108120096904689184, id2=10271966001060323261, type=<EdgeType.CFG_NEXT: 1>, field_name=None, has_back_edge=False), Edge(id1=10108120096904689184, id2=9784628869143751362, type=<EdgeType.CFG_NEXT: 1>, field_name=None, has_back_edge=False), Edge(id1=9784628869143751362, id2=12219335689282354403, type=<EdgeType.CFG_NEXT: 1>, field_name=None, has_back_edge=False), Edge(id1=9784628869143751362, id2=11499256730149983707, type=<EdgeType.CFG_NEXT: 1>, field_name=None, has_back_edge=False), Edge(id1=10271966001060323261, id2=11499256730149983707, type=<EdgeType.CFG_NEXT: 1>, field_name=None, has_back_edge=False), Edge(id1=10277769968383705972, id2=12219335689282354403, type=<EdgeType.CFG_NEXT: 1>, field_name=None, has_back_edge=False), Edge(id1=12219335689282354403, id2=10273322632835557308, type=<EdgeType.CFG_NEXT: 1>, field_name=None, has_back_edge=False), Edge(id1=11499256730149983707, id2=10273322632835557308, type=<EdgeType.CFG_NEXT: 1>, field_name=None, has_back_edge=False)] \n",
      "\n",
      "<generator object <genexpr> at 0x105ab2b50>\n"
     ]
    }
   ],
   "source": [
    "print(\"Nodes: \\n\",graph.nodes,\"\\n\")\n",
    "print(\"Edges: \\n\", graph.edges, \"\\n\")\n",
    "print(edge for edge in graph.edges if egde.type.value == 9)"
   ]
  },
  {
   "cell_type": "code",
   "execution_count": null,
   "id": "4f74a4ed-d397-4a9a-b1b2-6ee894d206c0",
   "metadata": {},
   "outputs": [],
   "source": []
  },
  {
   "cell_type": "code",
   "execution_count": null,
   "id": "7fda871f-3ca6-4e2f-9f58-fc48e690c04e",
   "metadata": {},
   "outputs": [],
   "source": []
  },
  {
   "cell_type": "code",
   "execution_count": 12,
   "id": "9925e712",
   "metadata": {
    "ExecuteTime": {
     "end_time": "2024-11-18T10:57:33.494969Z",
     "start_time": "2024-11-18T10:57:33.485186Z"
    },
    "collapsed": false,
    "jupyter": {
     "outputs_hidden": false
    }
   },
   "outputs": [
    {
     "name": "stdout",
     "output_type": "stream",
     "text": [
      "102\n"
     ]
    }
   ],
   "source": [
    "print(len(graph.nodes))"
   ]
  },
  {
   "cell_type": "code",
   "execution_count": 13,
   "id": "34ff2067",
   "metadata": {
    "ExecuteTime": {
     "end_time": "2024-11-18T10:57:33.495062Z",
     "start_time": "2024-11-18T10:57:33.488389Z"
    },
    "collapsed": false,
    "jupyter": {
     "outputs_hidden": false
    }
   },
   "outputs": [],
   "source": [
    "# Create a new directed graph\n",
    "nx_graph = nx.DiGraph()\n",
    "\n",
    "# Add nodes\n",
    "nx_graph.add_nodes_from(graph.nodes.keys())\n",
    "\n",
    "# Add edges with only id1 and id2\n",
    "edges = [(edge.id1, edge.id2) for edge in graph.edges]\n",
    "nx_graph.add_edges_from(edges)\n"
   ]
  },
  {
   "cell_type": "code",
   "execution_count": 14,
   "id": "3281c082",
   "metadata": {
    "ExecuteTime": {
     "end_time": "2024-11-18T10:57:33.499251Z",
     "start_time": "2024-11-18T10:57:33.493120Z"
    },
    "collapsed": false,
    "jupyter": {
     "outputs_hidden": false
    }
   },
   "outputs": [
    {
     "name": "stdout",
     "output_type": "stream",
     "text": [
      "Non-Deterministic Topological Sort Order: [12933619462411058698, 10115576774197098609, 13085076117903524052, 12938203132187835714, 12013961865352675761, 9335124924322544891, 10108120096904689184, 10271966001060323261, 10277769968383705972, 13198862734546069521, 10189913649607811377, 12477842132025638638, 13337432944597449562, 10258405893869937043, 11911219484955232444, 11834987903668354634, 9784628869143751362, 11848031998020439417, 11353097420832635231, 13119990167510532552, 11305425876566352567, 9586334334407176570, 12219335689282354403, 10476502722806249130, 10059194468149513087, 12247489469248280089, 11499256730149983707, 11160285847039806181, 13809963631253623386, 9632913977741458223, 12447299052988667862, 11204552141352362187, 9652415038413550370, 11193000050787036325, 11380555844486295658, 10729443232823672423, 12522620152854836677, 10476480860457212429, 12993261670474817218, 11828809352297403838, 13682317932574737972, 10273322632835557308, 12289169023823214132, 11240667307166626735, 10905035299059782649, 11933579012110344145, 10048919696414774274, 11005595773478209146, 13393865491459590336, 13638438994130829415, 9354960265472252050, 12576342478042001426, 11741971967960062363, 13756902992212224989, 11138997202209421919, 9297412013762639903, 12893741802120465480, 12011471778198050643, 12332244423584784049, 10161998492293231214, 11186289577071822278, 11300114293770971518, 11830996975123509778, 9605224431952920388, 12673300770181053269, 13031998830428260681, 10883020044959755927, 9944592548461069754, 11675072725073389476, 9450221006482531345, 11383642361451973653, 12001270622321903047, 13716748085380646245, 12506211403375532406, 10636776389223212018, 10178742463501057072, 11383971085703820007, 13166609314910837504, 11023741446385353281, 10207143232567798927, 11818708095430338813, 13034326993077113011, 10960277761868357451, 9637310546696623837, 12595926977234124562, 10603931334436728396, 12016872078880207752, 11477094376029736036, 12946760876555803807, 13053933559602346932, 10561044266749013253, 12654087349857784389, 11803367366686789387, 11934622770823686053, 10601138213115885483, 11638099790636307674, 12343356649608818440, 12195761519058963811, 13631089757189594495, 13346298510889196951, 10633911868981291972, 11852813433079113080]\n"
     ]
    }
   ],
   "source": [
    "topo_sort = non_deterministic_topological_sort(nx_graph)\n",
    "# random.shuffle(topo_sort)\n",
    "print(\"Non-Deterministic Topological Sort Order:\", topo_sort)"
   ]
  },
  {
   "cell_type": "code",
   "execution_count": 15,
   "id": "0017c4ae",
   "metadata": {
    "ExecuteTime": {
     "end_time": "2024-11-18T10:57:33.499474Z",
     "start_time": "2024-11-18T10:57:33.496234Z"
    },
    "collapsed": false,
    "jupyter": {
     "outputs_hidden": false
    }
   },
   "outputs": [
    {
     "name": "stdout",
     "output_type": "stream",
     "text": [
      "Jetzt\n"
     ]
    }
   ],
   "source": [
    "ast_sorted = graph_to_ast(graph,topo_sort)\n",
    "ast_sorted_body = ast_sorted.body[0].body"
   ]
  },
  {
   "cell_type": "code",
   "execution_count": 17,
   "id": "e19c6a36",
   "metadata": {
    "ExecuteTime": {
     "end_time": "2024-11-15T17:22:35.879194Z",
     "start_time": "2024-11-15T17:22:35.846709Z"
    },
    "collapsed": false,
    "jupyter": {
     "outputs_hidden": false
    }
   },
   "outputs": [
    {
     "name": "stdout",
     "output_type": "stream",
     "text": [
      "Jetzt\n",
      "\n",
      "\n",
      "def f1_score(pred, label):\n",
      "    correct = (pred == label)\n",
      "    fn = ((~ correct) & pred).sum()\n",
      "    fp = ((~ correct) & (~ pred)).sum()\n",
      "    tp = (correct & label).sum()\n",
      "    precision = (tp / (tp + fp))\n",
      "    recall = (tp / (tp + fn))\n",
      "    return ((2 * (recall * precision)) / (recall + precision))\n",
      "\n"
     ]
    }
   ],
   "source": [
    "reconstructed_ast = graph_to_ast(graph, topo_sort)\n",
    "generated_code = astunparse.unparse(reconstructed_ast)\n",
    "print(generated_code)"
   ]
  },
  {
   "cell_type": "code",
   "execution_count": 18,
   "id": "10f09185",
   "metadata": {
    "ExecuteTime": {
     "end_time": "2024-11-16T21:35:12.583507Z",
     "start_time": "2024-11-16T21:35:12.580490Z"
    },
    "collapsed": false,
    "jupyter": {
     "outputs_hidden": false
    }
   },
   "outputs": [
    {
     "name": "stdout",
     "output_type": "stream",
     "text": [
      "Topological Sort as Indexes: [9, 0, 1, 11, 10, 26, 2, 4, 5, 17, 25, 13, 29, 34, 52, 28, 3, 74, 19, 48, 15, 32, 6, 21, 40, 30, 7, 53, 36, 23, 39, 55, 49, 73, 90, 51, 54, 75, 58, 12, 50, 8, 27, 92, 24, 91, 47, 77, 46, 76, 99, 93, 71, 16, 45, 68, 64, 33, 94, 66, 100, 78, 43, 96, 95, 44, 70, 101, 72, 14, 61, 42, 62, 89, 38, 56, 31, 65, 84, 63, 22, 81, 41, 18, 59, 35, 60, 80, 88, 83, 82, 97, 67, 57, 20, 37, 85, 69, 98, 87, 86, 79]\n"
     ]
    }
   ],
   "source": [
    "original_nodes_list = list(graph.nodes.keys())\n",
    "index_sort = [original_nodes_list.index(node_id) for node_id in topo_sort]\n",
    "\n",
    "print(\"Topological Sort as Indexes:\", index_sort)"
   ]
  },
  {
   "cell_type": "code",
   "execution_count": 21,
   "id": "dd3533f1-3bc0-4106-84e7-439f2e65caef",
   "metadata": {},
   "outputs": [
    {
     "data": {
      "text/plain": [
       "[]"
      ]
     },
     "execution_count": 21,
     "metadata": {},
     "output_type": "execute_result"
    }
   ],
   "source": [
    "[e for e in graph.edges if e.type.value == '<EdgeType.FIELD: 7>']"
   ]
  },
  {
   "cell_type": "code",
   "execution_count": null,
   "id": "c314aeca-8e43-48e3-89a6-75ac1d34bd44",
   "metadata": {},
   "outputs": [],
   "source": []
  }
 ],
 "metadata": {
  "kernelspec": {
   "display_name": "Python 3 (ipykernel)",
   "language": "python",
   "name": "python3"
  },
  "language_info": {
   "codemirror_mode": {
    "name": "ipython",
    "version": 3
   },
   "file_extension": ".py",
   "mimetype": "text/x-python",
   "name": "python",
   "nbconvert_exporter": "python",
   "pygments_lexer": "ipython3",
   "version": "3.12.3"
  }
 },
 "nbformat": 4,
 "nbformat_minor": 5
}
