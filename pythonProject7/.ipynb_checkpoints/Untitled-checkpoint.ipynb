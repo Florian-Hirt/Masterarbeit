{
 "cells": [
  {
   "cell_type": "code",
   "execution_count": 7,
   "id": "3daf43d8-8dfa-491d-88e4-50d8282b16d4",
   "metadata": {},
   "outputs": [
    {
     "ename": "ModuleNotFoundError",
     "evalue": "No module named 'digraph_transformer'",
     "output_type": "error",
     "traceback": [
      "\u001b[0;31m---------------------------------------------------------------------------\u001b[0m",
      "\u001b[0;31mModuleNotFoundError\u001b[0m                       Traceback (most recent call last)",
      "Cell \u001b[0;32mIn[7], line 2\u001b[0m\n\u001b[1;32m      1\u001b[0m \u001b[38;5;28;01mimport\u001b[39;00m \u001b[38;5;21;01mast\u001b[39;00m\n\u001b[0;32m----> 2\u001b[0m \u001b[38;5;28;01mimport\u001b[39;00m \u001b[38;5;21;01mdigraph_transformer\u001b[39;00m\n",
      "\u001b[0;31mModuleNotFoundError\u001b[0m: No module named 'digraph_transformer'"
     ]
    }
   ],
   "source": [
    "import ast\n",
    "import digraph_transformer"
   ]
  },
  {
   "cell_type": "code",
   "execution_count": 3,
   "id": "e03553d7-4a20-4c4a-99a5-c3d370bbf8ca",
   "metadata": {},
   "outputs": [],
   "source": [
    "# Code-Snippets of three f1 scores and one 'false' f1 score\n",
    "code1 = \"\"\"\n",
    "def f1_score(pred, label):\n",
    "    correct = pred == label\n",
    "    tp = (correct & label).sum()\n",
    "    fn = (~correct & pred).sum()\n",
    "    fp = (~correct & ~pred).sum()\n",
    "    precision = tp / (tp + fp)\n",
    "    recall = tp / (tp + fn)\n",
    "    return (2 * (recall * precision) / (recall + precision))\n",
    "\"\"\"\n",
    "\n",
    "code2 = \"\"\"\n",
    "def f1_score(pred, label):\n",
    "    correct = pred == label\n",
    "    tp = (correct & label).sum()\n",
    "    fn = (~correct & ~pred).sum()\n",
    "    fp = (~correct & pred).sum()\n",
    "    precision = tp / (tp + fp)\n",
    "    recall = tp / (tp + fn)\n",
    "    return (2 * (precision * recall) / (precision + recall))\n",
    "\"\"\"\n",
    "\n",
    "code3 = \"\"\"\n",
    "def f1_score(pred, label):\n",
    "    correct = pred == label\n",
    "    tp = (correct & label).sum()\n",
    "    fn = (~correct & ~pred).sum()\n",
    "    recall = tp / (tp + fn)\n",
    "    fp = (~correct & pred).sum()\n",
    "    precision = tp / (tp + fp)\n",
    "    return (2 * (precision * recall) / (precision + recall))\n",
    "\"\"\"\n",
    "\n",
    "incorrect_code = \"\"\"\n",
    "def f1_score(pred, label):\n",
    "    correct = pred != label # unequal\n",
    "    tp = (correct & label).sum()\n",
    "    fn = (~correct & ~pred).sum()\n",
    "    recall = (tp + fn) / tp # changed Zähler and Nenner\n",
    "    fp = (~correct & pred).sum()\n",
    "    precision = tp / (tp - fp) # minus instead of plus\n",
    "    return (2 * (precision * recall) / (precision + recall))\n",
    "\"\"\""
   ]
  },
  {
   "cell_type": "code",
   "execution_count": 4,
   "id": "859d2461-2a28-4709-ad54-579d3b2209d8",
   "metadata": {},
   "outputs": [],
   "source": [
    "# Parse the ASTs\n",
    "tree1 = ast.parse(code1)\n",
    "tree2 = ast.parse(code2)\n",
    "tree3 = ast.parse(code3)\n",
    "tree_incorrect = ast.parse(incorrect_code)\n",
    "\n",
    "# Extract the Function Bodies\n",
    "function_body1 = tree1.body[0].body\n",
    "function_body2 = tree2.body[0].body\n",
    "function_body3 = tree3.body[0].body\n",
    "function_body_incorrect = tree_incorrect.body[0].body"
   ]
  },
  {
   "cell_type": "code",
   "execution_count": 5,
   "id": "5e5f3d65-f933-43fe-a6cf-df2656cb20ae",
   "metadata": {},
   "outputs": [],
   "source": [
    "# Function for detailed output of the AST nodes\n",
    "def print_ast_details(body, label):\n",
    "    print(f\"{label}:\\n\")\n",
    "    for stmt in body:\n",
    "        print(ast.dump(stmt, annotate_fields=True, include_attributes=True))\n",
    "    print(\"\\n\" + \"=\" * 50 + \"\\n\")"
   ]
  },
  {
   "cell_type": "code",
   "execution_count": 6,
   "id": "9c46fce9-d019-4ec8-a7d4-ecac852a5737",
   "metadata": {},
   "outputs": [
    {
     "name": "stdout",
     "output_type": "stream",
     "text": [
      "Code 1:\n",
      "\n",
      "Assign(targets=[Name(id='correct', ctx=Store(), lineno=3, col_offset=4, end_lineno=3, end_col_offset=11)], value=Compare(left=Name(id='pred', ctx=Load(), lineno=3, col_offset=14, end_lineno=3, end_col_offset=18), ops=[Eq()], comparators=[Name(id='label', ctx=Load(), lineno=3, col_offset=22, end_lineno=3, end_col_offset=27)], lineno=3, col_offset=14, end_lineno=3, end_col_offset=27), lineno=3, col_offset=4, end_lineno=3, end_col_offset=27)\n",
      "Assign(targets=[Name(id='tp', ctx=Store(), lineno=4, col_offset=4, end_lineno=4, end_col_offset=6)], value=Call(func=Attribute(value=BinOp(left=Name(id='correct', ctx=Load(), lineno=4, col_offset=10, end_lineno=4, end_col_offset=17), op=BitAnd(), right=Name(id='label', ctx=Load(), lineno=4, col_offset=20, end_lineno=4, end_col_offset=25), lineno=4, col_offset=10, end_lineno=4, end_col_offset=25), attr='sum', ctx=Load(), lineno=4, col_offset=9, end_lineno=4, end_col_offset=30), args=[], keywords=[], lineno=4, col_offset=9, end_lineno=4, end_col_offset=32), lineno=4, col_offset=4, end_lineno=4, end_col_offset=32)\n",
      "Assign(targets=[Name(id='fn', ctx=Store(), lineno=5, col_offset=4, end_lineno=5, end_col_offset=6)], value=Call(func=Attribute(value=BinOp(left=UnaryOp(op=Invert(), operand=Name(id='correct', ctx=Load(), lineno=5, col_offset=11, end_lineno=5, end_col_offset=18), lineno=5, col_offset=10, end_lineno=5, end_col_offset=18), op=BitAnd(), right=Name(id='pred', ctx=Load(), lineno=5, col_offset=21, end_lineno=5, end_col_offset=25), lineno=5, col_offset=10, end_lineno=5, end_col_offset=25), attr='sum', ctx=Load(), lineno=5, col_offset=9, end_lineno=5, end_col_offset=30), args=[], keywords=[], lineno=5, col_offset=9, end_lineno=5, end_col_offset=32), lineno=5, col_offset=4, end_lineno=5, end_col_offset=32)\n",
      "Assign(targets=[Name(id='fp', ctx=Store(), lineno=6, col_offset=4, end_lineno=6, end_col_offset=6)], value=Call(func=Attribute(value=BinOp(left=UnaryOp(op=Invert(), operand=Name(id='correct', ctx=Load(), lineno=6, col_offset=11, end_lineno=6, end_col_offset=18), lineno=6, col_offset=10, end_lineno=6, end_col_offset=18), op=BitAnd(), right=UnaryOp(op=Invert(), operand=Name(id='pred', ctx=Load(), lineno=6, col_offset=22, end_lineno=6, end_col_offset=26), lineno=6, col_offset=21, end_lineno=6, end_col_offset=26), lineno=6, col_offset=10, end_lineno=6, end_col_offset=26), attr='sum', ctx=Load(), lineno=6, col_offset=9, end_lineno=6, end_col_offset=31), args=[], keywords=[], lineno=6, col_offset=9, end_lineno=6, end_col_offset=33), lineno=6, col_offset=4, end_lineno=6, end_col_offset=33)\n",
      "Assign(targets=[Name(id='precision', ctx=Store(), lineno=7, col_offset=4, end_lineno=7, end_col_offset=13)], value=BinOp(left=Name(id='tp', ctx=Load(), lineno=7, col_offset=16, end_lineno=7, end_col_offset=18), op=Div(), right=BinOp(left=Name(id='tp', ctx=Load(), lineno=7, col_offset=22, end_lineno=7, end_col_offset=24), op=Add(), right=Name(id='fp', ctx=Load(), lineno=7, col_offset=27, end_lineno=7, end_col_offset=29), lineno=7, col_offset=22, end_lineno=7, end_col_offset=29), lineno=7, col_offset=16, end_lineno=7, end_col_offset=30), lineno=7, col_offset=4, end_lineno=7, end_col_offset=30)\n",
      "Assign(targets=[Name(id='recall', ctx=Store(), lineno=8, col_offset=4, end_lineno=8, end_col_offset=10)], value=BinOp(left=Name(id='tp', ctx=Load(), lineno=8, col_offset=13, end_lineno=8, end_col_offset=15), op=Div(), right=BinOp(left=Name(id='tp', ctx=Load(), lineno=8, col_offset=19, end_lineno=8, end_col_offset=21), op=Add(), right=Name(id='fn', ctx=Load(), lineno=8, col_offset=24, end_lineno=8, end_col_offset=26), lineno=8, col_offset=19, end_lineno=8, end_col_offset=26), lineno=8, col_offset=13, end_lineno=8, end_col_offset=27), lineno=8, col_offset=4, end_lineno=8, end_col_offset=27)\n",
      "Return(value=BinOp(left=BinOp(left=Constant(value=2, lineno=9, col_offset=12, end_lineno=9, end_col_offset=13), op=Mult(), right=BinOp(left=Name(id='recall', ctx=Load(), lineno=9, col_offset=17, end_lineno=9, end_col_offset=23), op=Mult(), right=Name(id='precision', ctx=Load(), lineno=9, col_offset=26, end_lineno=9, end_col_offset=35), lineno=9, col_offset=17, end_lineno=9, end_col_offset=35), lineno=9, col_offset=12, end_lineno=9, end_col_offset=36), op=Div(), right=BinOp(left=Name(id='recall', ctx=Load(), lineno=9, col_offset=40, end_lineno=9, end_col_offset=46), op=Add(), right=Name(id='precision', ctx=Load(), lineno=9, col_offset=49, end_lineno=9, end_col_offset=58), lineno=9, col_offset=40, end_lineno=9, end_col_offset=58), lineno=9, col_offset=12, end_lineno=9, end_col_offset=59), lineno=9, col_offset=4, end_lineno=9, end_col_offset=60)\n",
      "\n",
      "==================================================\n",
      "\n"
     ]
    }
   ],
   "source": [
    "print_ast_details(function_body1, \"Code 1\")"
   ]
  },
  {
   "cell_type": "code",
   "execution_count": null,
   "id": "c5dba37f-abe8-461d-b3dd-cdf96fbcc4f3",
   "metadata": {},
   "outputs": [],
   "source": []
  }
 ],
 "metadata": {
  "kernelspec": {
   "display_name": "Python 3 (ipykernel)",
   "language": "python",
   "name": "python3"
  },
  "language_info": {
   "codemirror_mode": {
    "name": "ipython",
    "version": 3
   },
   "file_extension": ".py",
   "mimetype": "text/x-python",
   "name": "python",
   "nbconvert_exporter": "python",
   "pygments_lexer": "ipython3",
   "version": "3.12.7"
  }
 },
 "nbformat": 4,
 "nbformat_minor": 5
}
